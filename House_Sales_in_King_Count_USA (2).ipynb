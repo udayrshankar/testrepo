{
  "metadata": {
    "kernelspec": {
      "name": "python",
      "display_name": "Python (Pyodide)",
      "language": "python"
    },
    "language_info": {
      "codemirror_mode": {
        "name": "python",
        "version": 3
      },
      "file_extension": ".py",
      "mimetype": "text/x-python",
      "name": "python",
      "nbconvert_exporter": "python",
      "pygments_lexer": "ipython3",
      "version": "3.8"
    },
    "prev_pub_hash": "8e1b9a014f4d5dd1f594f0f84b9e2a27c098aabf3c393aa0062e8aef51a297d0",
    "colab": {
      "provenance": []
    }
  },
  "nbformat_minor": 0,
  "nbformat": 4,
  "cells": [
    {
      "cell_type": "markdown",
      "source": [
        "<p style=\"text-align:center\">\n",
        "    <a href=\"https://skills.network/?utm_medium=Exinfluencer&utm_source=Exinfluencer&utm_content=000026UJ&utm_term=10006555&utm_id=NA-SkillsNetwork-Channel-SkillsNetworkCoursesIBMDeveloperSkillsNetworkML0101ENSkillsNetwork20718538-2022-01-01\" target=\"_blank\">\n",
        "    <img src=\"https://cf-courses-data.s3.us.cloud-object-storage.appdomain.cloud/assets/logos/SN_web_lightmode.png\" width=\"300\" alt=\"Skills Network Logo\">\n",
        "    </a>\n",
        "</p>\n",
        "\n",
        "<h1 align=\"center\"><font size=\"5\">Final Project: House Sales in King County, USA </font></h1>\n"
      ],
      "metadata": {
        "id": "nghICxJt5YET"
      }
    },
    {
      "cell_type": "markdown",
      "source": [
        "<h2>Table of Contents</h2>\n",
        "<div class=\"alert alert-block alert-info\" style=\"margin-top: 20px\">\n",
        "    <ul>\n",
        "    <li><a href=\"#Instructions\">Instructions</a></li>\n",
        "    <li><a href=\"#About-the-Dataset\">About the Dataset</a></li>\n",
        "    <li><a href=\"#Module-1:-Importing-Data-Sets\">Module 1: Importing Data </a></li>\n",
        "    <li><a href=\"#Module-2:-Data-Wrangling\">Module 2: Data Wrangling</a> </li>\n",
        "    <li><a href=\"#Module-3:-Exploratory-Data-Analysis\">Module 3: Exploratory Data Analysis</a></li>\n",
        "    <li><a href=\"#Module-4:-Model-Development\">Module 4: Model Development</a></li>\n",
        "    <li><a href=\"#Module-5:-Model-Evaluation-and-Refinement\">Module 5: Model Evaluation and Refinement</a></li>\n",
        "</a></li>\n",
        "</div>\n",
        "<p>Estimated Time Needed: <strong>75 min</strong></p>\n",
        "</div>\n",
        "\n",
        "<hr>\n"
      ],
      "metadata": {
        "id": "NY6oyJD25YEV"
      }
    },
    {
      "cell_type": "markdown",
      "source": [
        "# Instructions\n"
      ],
      "metadata": {
        "id": "2Uj1U3155YEW"
      }
    },
    {
      "cell_type": "markdown",
      "source": [
        "In this assignment, you are a Data Analyst working at a Real Estate Investment Trust. The Trust would like to start investing in Residential real estate. You are tasked with determining the market price of a house given a set of features. You will analyze and predict housing prices using attributes or features such as square footage, number of bedrooms, number of floors, and so on. This is a template notebook; your job is to complete the ten questions. Some hints to the questions are given.\n",
        "\n",
        "As you are completing this notebook, take and save the **screenshots** of the final outputs of your solutions (e.g., final charts, tables, calculation results etc.). They will need to be shared in the following Peer Review section of the Final Project module.\n"
      ],
      "metadata": {
        "id": "vneQ6daY5YEW"
      }
    },
    {
      "cell_type": "markdown",
      "source": [
        "# About the Dataset\n",
        "\n",
        "This dataset contains house sale prices for King County, which includes Seattle. It includes homes sold between May 2014 and May 2015. It was taken from [here](https://www.kaggle.com/harlfoxem/housesalesprediction?utm_medium=Exinfluencer&utm_source=Exinfluencer&utm_content=000026UJ&utm_term=10006555&utm_id=NA-SkillsNetwork-wwwcourseraorg-SkillsNetworkCoursesIBMDeveloperSkillsNetworkDA0101ENSkillsNetwork20235326-2022-01-01). It was also slightly modified for the purposes of this course.\n"
      ],
      "metadata": {
        "id": "Kdn8jsFy5YEW"
      }
    },
    {
      "cell_type": "markdown",
      "source": [
        "| Variable      | Description                                                                                                 |\n",
        "| ------------- | ----------------------------------------------------------------------------------------------------------- |\n",
        "| id            | A notation for a house                                                                                      |\n",
        "| date          | Date house was sold                                                                                         |\n",
        "| price         | Price is prediction target                                                                                  |\n",
        "| bedrooms      | Number of bedrooms                                                                                          |\n",
        "| bathrooms     | Number of bathrooms                                                                                         |\n",
        "| sqft_living   | Square footage of the home                                                                                  |\n",
        "| sqft_lot      | Square footage of the lot                                                                                   |\n",
        "| floors        | Total floors (levels) in house                                                                              |\n",
        "| waterfront    | House which has a view to a waterfront                                                                      |\n",
        "| view          | Has been viewed                                                                                             |\n",
        "| condition     | How good the condition is overall                                                                           |\n",
        "| grade         | overall grade given to the housing unit, based on King County grading system                                |\n",
        "| sqft_above    | Square footage of house apart from basement                                                                 |\n",
        "| sqft_basement | Square footage of the basement                                                                              |\n",
        "| yr_built      | Built Year                                                                                                  |\n",
        "| yr_renovated  | Year when house was renovated                                                                               |\n",
        "| zipcode       | Zip code                                                                                                    |\n",
        "| lat           | Latitude coordinate                                                                                         |\n",
        "| long          | Longitude coordinate                                                                                        |\n",
        "| sqft_living15 | Living room area in 2015(implies-- some renovations) This might or might not have affected the lotsize area |\n",
        "| sqft_lot15    | LotSize area in 2015(implies-- some renovations)                                                            |\n"
      ],
      "metadata": {
        "id": "TRLl3Uhb5YEX"
      }
    },
    {
      "cell_type": "markdown",
      "source": [
        "## **Import the required libraries**\n"
      ],
      "metadata": {
        "id": "s-5XZ29y5YEX"
      }
    },
    {
      "cell_type": "code",
      "source": [
        "# All Libraries required for this lab are listed below. The libraries pre-installed on Skills Network Labs are commented.\n",
        "!pip install -qy pandas==1.3.4 numpy==1.21.4 seaborn==0.9.0 matplotlib==3.5.0 scikit-learn==0.20.1\n",
        "# Note: If your environment doesn't support \"!mamba install\", use \"!pip install\""
      ],
      "metadata": {
        "trusted": true,
        "colab": {
          "base_uri": "https://localhost:8080/"
        },
        "id": "jmTrDXBL5YEX",
        "outputId": "ea1f5cfb-7def-4a0c-fd37-37411ec1f02a"
      },
      "outputs": [
        {
          "output_type": "stream",
          "name": "stdout",
          "text": [
            "\n",
            "Usage:   \n",
            "  pip3 install [options] <requirement specifier> [package-index-options] ...\n",
            "  pip3 install [options] -r <requirements file> [package-index-options] ...\n",
            "  pip3 install [options] [-e] <vcs project url> ...\n",
            "  pip3 install [options] [-e] <local project path> ...\n",
            "  pip3 install [options] <archive url/path> ...\n",
            "\n",
            "no such option: -y\n"
          ]
        }
      ],
      "execution_count": 1
    },
    {
      "cell_type": "code",
      "source": [
        "# Surpress warnings:\n",
        "def warn(*args, **kwargs):\n",
        "    pass\n",
        "import warnings\n",
        "warnings.warn = warn"
      ],
      "metadata": {
        "trusted": true,
        "id": "_CktAZWG5YEY"
      },
      "outputs": [],
      "execution_count": 2
    },
    {
      "cell_type": "code",
      "source": [
        "!pip install piplite\n"
      ],
      "metadata": {
        "trusted": true,
        "colab": {
          "base_uri": "https://localhost:8080/"
        },
        "id": "pgVLwm9f5YEY",
        "outputId": "549adff5-91a1-40cb-fd39-c89dd75a0060"
      },
      "outputs": [
        {
          "output_type": "stream",
          "name": "stdout",
          "text": [
            "\u001b[31mERROR: Could not find a version that satisfies the requirement piplite (from versions: none)\u001b[0m\u001b[31m\n",
            "\u001b[0m\u001b[31mERROR: No matching distribution found for piplite\u001b[0m\u001b[31m\n",
            "\u001b[0m"
          ]
        }
      ],
      "execution_count": 20
    },
    {
      "cell_type": "code",
      "source": [
        "import pandas as pd\n",
        "import matplotlib.pyplot as plt\n",
        "import numpy as np\n",
        "#import seaborn as sns\n",
        "from sklearn.pipeline import Pipeline\n",
        "from sklearn.preprocessing import StandardScaler,PolynomialFeatures\n",
        "from sklearn.linear_model import LinearRegression\n",
        "from sklearn.metrics import r2_score\n",
        "%matplotlib inline"
      ],
      "metadata": {
        "trusted": true,
        "id": "3e4kmcfq5YEY"
      },
      "outputs": [],
      "execution_count": 42
    },
    {
      "cell_type": "markdown",
      "source": [
        "# Module 1: Importing Data Sets\n"
      ],
      "metadata": {
        "id": "0GYdddkB5YEY"
      }
    },
    {
      "cell_type": "markdown",
      "source": [
        "Download the dataset by running the cell below.\n"
      ],
      "metadata": {
        "id": "ELRQd55J5YEY"
      }
    },
    {
      "cell_type": "code",
      "source": [
        "import seaborn as sns\n",
        "import requests"
      ],
      "metadata": {
        "trusted": true,
        "id": "kIDDVVJJ5YEY"
      },
      "outputs": [],
      "execution_count": 25
    },
    {
      "cell_type": "code",
      "source": [
        "url = 'https://cf-courses-data.s3.us.cloud-object-storage.appdomain.cloud/IBMDeveloperSkillsNetwork-DA0101EN-SkillsNetwork/labs/FinalModule_Coursera/data/kc_house_data_NaN.csv'\n",
        "response = requests.get(url)\n",
        "with open(\"housing.csv\", \"wb\") as f:\n",
        "    f.write(response.content)\n",
        "\n",
        "# Load the dataset using pandas\n",
        "file_name = \"housing.csv\"\n",
        "df = pd.read_csv(file_name)"
      ],
      "metadata": {
        "trusted": true,
        "id": "k-_joJf55YEZ"
      },
      "outputs": [],
      "execution_count": 26
    },
    {
      "cell_type": "markdown",
      "source": [
        "Load the csv:\n"
      ],
      "metadata": {
        "id": "8VpA4hKt5YEZ"
      }
    },
    {
      "cell_type": "markdown",
      "source": [
        "> Note: This version of the lab is working on JupyterLite, which requires the dataset to be downloaded to the interface.While working on the downloaded version of this notebook on their local machines(Jupyter Anaconda), the learners can simply **skip the steps above,** and simply use the URL directly in the `pandas.read_csv()` function. You can uncomment and run the statements in the cell below.\n"
      ],
      "metadata": {
        "id": "SZvfy2gt5YEZ"
      }
    },
    {
      "cell_type": "markdown",
      "source": [
        "We use the method <code>head</code> to display the first 5 columns of the dataframe.\n"
      ],
      "metadata": {
        "id": "hb3vbh915YEZ"
      }
    },
    {
      "cell_type": "code",
      "source": [
        "df.head()"
      ],
      "metadata": {
        "trusted": true,
        "colab": {
          "base_uri": "https://localhost:8080/",
          "height": 273
        },
        "id": "kCA-gkKR5YEZ",
        "outputId": "e43af3a0-74c1-4949-da15-ed9e2fc2ebd3"
      },
      "outputs": [
        {
          "output_type": "execute_result",
          "data": {
            "text/plain": [
              "   Unnamed: 0          id             date     price  bedrooms  bathrooms  \\\n",
              "0           0  7129300520  20141013T000000  221900.0       3.0       1.00   \n",
              "1           1  6414100192  20141209T000000  538000.0       3.0       2.25   \n",
              "2           2  5631500400  20150225T000000  180000.0       2.0       1.00   \n",
              "3           3  2487200875  20141209T000000  604000.0       4.0       3.00   \n",
              "4           4  1954400510  20150218T000000  510000.0       3.0       2.00   \n",
              "\n",
              "   sqft_living  sqft_lot  floors  waterfront  ...  grade  sqft_above  \\\n",
              "0         1180      5650     1.0           0  ...      7        1180   \n",
              "1         2570      7242     2.0           0  ...      7        2170   \n",
              "2          770     10000     1.0           0  ...      6         770   \n",
              "3         1960      5000     1.0           0  ...      7        1050   \n",
              "4         1680      8080     1.0           0  ...      8        1680   \n",
              "\n",
              "   sqft_basement  yr_built  yr_renovated  zipcode      lat     long  \\\n",
              "0              0      1955             0    98178  47.5112 -122.257   \n",
              "1            400      1951          1991    98125  47.7210 -122.319   \n",
              "2              0      1933             0    98028  47.7379 -122.233   \n",
              "3            910      1965             0    98136  47.5208 -122.393   \n",
              "4              0      1987             0    98074  47.6168 -122.045   \n",
              "\n",
              "   sqft_living15  sqft_lot15  \n",
              "0           1340        5650  \n",
              "1           1690        7639  \n",
              "2           2720        8062  \n",
              "3           1360        5000  \n",
              "4           1800        7503  \n",
              "\n",
              "[5 rows x 22 columns]"
            ],
            "text/html": [
              "\n",
              "  <div id=\"df-032d5c89-6f20-4ff8-844b-a814ea61e409\" class=\"colab-df-container\">\n",
              "    <div>\n",
              "<style scoped>\n",
              "    .dataframe tbody tr th:only-of-type {\n",
              "        vertical-align: middle;\n",
              "    }\n",
              "\n",
              "    .dataframe tbody tr th {\n",
              "        vertical-align: top;\n",
              "    }\n",
              "\n",
              "    .dataframe thead th {\n",
              "        text-align: right;\n",
              "    }\n",
              "</style>\n",
              "<table border=\"1\" class=\"dataframe\">\n",
              "  <thead>\n",
              "    <tr style=\"text-align: right;\">\n",
              "      <th></th>\n",
              "      <th>Unnamed: 0</th>\n",
              "      <th>id</th>\n",
              "      <th>date</th>\n",
              "      <th>price</th>\n",
              "      <th>bedrooms</th>\n",
              "      <th>bathrooms</th>\n",
              "      <th>sqft_living</th>\n",
              "      <th>sqft_lot</th>\n",
              "      <th>floors</th>\n",
              "      <th>waterfront</th>\n",
              "      <th>...</th>\n",
              "      <th>grade</th>\n",
              "      <th>sqft_above</th>\n",
              "      <th>sqft_basement</th>\n",
              "      <th>yr_built</th>\n",
              "      <th>yr_renovated</th>\n",
              "      <th>zipcode</th>\n",
              "      <th>lat</th>\n",
              "      <th>long</th>\n",
              "      <th>sqft_living15</th>\n",
              "      <th>sqft_lot15</th>\n",
              "    </tr>\n",
              "  </thead>\n",
              "  <tbody>\n",
              "    <tr>\n",
              "      <th>0</th>\n",
              "      <td>0</td>\n",
              "      <td>7129300520</td>\n",
              "      <td>20141013T000000</td>\n",
              "      <td>221900.0</td>\n",
              "      <td>3.0</td>\n",
              "      <td>1.00</td>\n",
              "      <td>1180</td>\n",
              "      <td>5650</td>\n",
              "      <td>1.0</td>\n",
              "      <td>0</td>\n",
              "      <td>...</td>\n",
              "      <td>7</td>\n",
              "      <td>1180</td>\n",
              "      <td>0</td>\n",
              "      <td>1955</td>\n",
              "      <td>0</td>\n",
              "      <td>98178</td>\n",
              "      <td>47.5112</td>\n",
              "      <td>-122.257</td>\n",
              "      <td>1340</td>\n",
              "      <td>5650</td>\n",
              "    </tr>\n",
              "    <tr>\n",
              "      <th>1</th>\n",
              "      <td>1</td>\n",
              "      <td>6414100192</td>\n",
              "      <td>20141209T000000</td>\n",
              "      <td>538000.0</td>\n",
              "      <td>3.0</td>\n",
              "      <td>2.25</td>\n",
              "      <td>2570</td>\n",
              "      <td>7242</td>\n",
              "      <td>2.0</td>\n",
              "      <td>0</td>\n",
              "      <td>...</td>\n",
              "      <td>7</td>\n",
              "      <td>2170</td>\n",
              "      <td>400</td>\n",
              "      <td>1951</td>\n",
              "      <td>1991</td>\n",
              "      <td>98125</td>\n",
              "      <td>47.7210</td>\n",
              "      <td>-122.319</td>\n",
              "      <td>1690</td>\n",
              "      <td>7639</td>\n",
              "    </tr>\n",
              "    <tr>\n",
              "      <th>2</th>\n",
              "      <td>2</td>\n",
              "      <td>5631500400</td>\n",
              "      <td>20150225T000000</td>\n",
              "      <td>180000.0</td>\n",
              "      <td>2.0</td>\n",
              "      <td>1.00</td>\n",
              "      <td>770</td>\n",
              "      <td>10000</td>\n",
              "      <td>1.0</td>\n",
              "      <td>0</td>\n",
              "      <td>...</td>\n",
              "      <td>6</td>\n",
              "      <td>770</td>\n",
              "      <td>0</td>\n",
              "      <td>1933</td>\n",
              "      <td>0</td>\n",
              "      <td>98028</td>\n",
              "      <td>47.7379</td>\n",
              "      <td>-122.233</td>\n",
              "      <td>2720</td>\n",
              "      <td>8062</td>\n",
              "    </tr>\n",
              "    <tr>\n",
              "      <th>3</th>\n",
              "      <td>3</td>\n",
              "      <td>2487200875</td>\n",
              "      <td>20141209T000000</td>\n",
              "      <td>604000.0</td>\n",
              "      <td>4.0</td>\n",
              "      <td>3.00</td>\n",
              "      <td>1960</td>\n",
              "      <td>5000</td>\n",
              "      <td>1.0</td>\n",
              "      <td>0</td>\n",
              "      <td>...</td>\n",
              "      <td>7</td>\n",
              "      <td>1050</td>\n",
              "      <td>910</td>\n",
              "      <td>1965</td>\n",
              "      <td>0</td>\n",
              "      <td>98136</td>\n",
              "      <td>47.5208</td>\n",
              "      <td>-122.393</td>\n",
              "      <td>1360</td>\n",
              "      <td>5000</td>\n",
              "    </tr>\n",
              "    <tr>\n",
              "      <th>4</th>\n",
              "      <td>4</td>\n",
              "      <td>1954400510</td>\n",
              "      <td>20150218T000000</td>\n",
              "      <td>510000.0</td>\n",
              "      <td>3.0</td>\n",
              "      <td>2.00</td>\n",
              "      <td>1680</td>\n",
              "      <td>8080</td>\n",
              "      <td>1.0</td>\n",
              "      <td>0</td>\n",
              "      <td>...</td>\n",
              "      <td>8</td>\n",
              "      <td>1680</td>\n",
              "      <td>0</td>\n",
              "      <td>1987</td>\n",
              "      <td>0</td>\n",
              "      <td>98074</td>\n",
              "      <td>47.6168</td>\n",
              "      <td>-122.045</td>\n",
              "      <td>1800</td>\n",
              "      <td>7503</td>\n",
              "    </tr>\n",
              "  </tbody>\n",
              "</table>\n",
              "<p>5 rows × 22 columns</p>\n",
              "</div>\n",
              "    <div class=\"colab-df-buttons\">\n",
              "\n",
              "  <div class=\"colab-df-container\">\n",
              "    <button class=\"colab-df-convert\" onclick=\"convertToInteractive('df-032d5c89-6f20-4ff8-844b-a814ea61e409')\"\n",
              "            title=\"Convert this dataframe to an interactive table.\"\n",
              "            style=\"display:none;\">\n",
              "\n",
              "  <svg xmlns=\"http://www.w3.org/2000/svg\" height=\"24px\" viewBox=\"0 -960 960 960\">\n",
              "    <path d=\"M120-120v-720h720v720H120Zm60-500h600v-160H180v160Zm220 220h160v-160H400v160Zm0 220h160v-160H400v160ZM180-400h160v-160H180v160Zm440 0h160v-160H620v160ZM180-180h160v-160H180v160Zm440 0h160v-160H620v160Z\"/>\n",
              "  </svg>\n",
              "    </button>\n",
              "\n",
              "  <style>\n",
              "    .colab-df-container {\n",
              "      display:flex;\n",
              "      gap: 12px;\n",
              "    }\n",
              "\n",
              "    .colab-df-convert {\n",
              "      background-color: #E8F0FE;\n",
              "      border: none;\n",
              "      border-radius: 50%;\n",
              "      cursor: pointer;\n",
              "      display: none;\n",
              "      fill: #1967D2;\n",
              "      height: 32px;\n",
              "      padding: 0 0 0 0;\n",
              "      width: 32px;\n",
              "    }\n",
              "\n",
              "    .colab-df-convert:hover {\n",
              "      background-color: #E2EBFA;\n",
              "      box-shadow: 0px 1px 2px rgba(60, 64, 67, 0.3), 0px 1px 3px 1px rgba(60, 64, 67, 0.15);\n",
              "      fill: #174EA6;\n",
              "    }\n",
              "\n",
              "    .colab-df-buttons div {\n",
              "      margin-bottom: 4px;\n",
              "    }\n",
              "\n",
              "    [theme=dark] .colab-df-convert {\n",
              "      background-color: #3B4455;\n",
              "      fill: #D2E3FC;\n",
              "    }\n",
              "\n",
              "    [theme=dark] .colab-df-convert:hover {\n",
              "      background-color: #434B5C;\n",
              "      box-shadow: 0px 1px 3px 1px rgba(0, 0, 0, 0.15);\n",
              "      filter: drop-shadow(0px 1px 2px rgba(0, 0, 0, 0.3));\n",
              "      fill: #FFFFFF;\n",
              "    }\n",
              "  </style>\n",
              "\n",
              "    <script>\n",
              "      const buttonEl =\n",
              "        document.querySelector('#df-032d5c89-6f20-4ff8-844b-a814ea61e409 button.colab-df-convert');\n",
              "      buttonEl.style.display =\n",
              "        google.colab.kernel.accessAllowed ? 'block' : 'none';\n",
              "\n",
              "      async function convertToInteractive(key) {\n",
              "        const element = document.querySelector('#df-032d5c89-6f20-4ff8-844b-a814ea61e409');\n",
              "        const dataTable =\n",
              "          await google.colab.kernel.invokeFunction('convertToInteractive',\n",
              "                                                    [key], {});\n",
              "        if (!dataTable) return;\n",
              "\n",
              "        const docLinkHtml = 'Like what you see? Visit the ' +\n",
              "          '<a target=\"_blank\" href=https://colab.research.google.com/notebooks/data_table.ipynb>data table notebook</a>'\n",
              "          + ' to learn more about interactive tables.';\n",
              "        element.innerHTML = '';\n",
              "        dataTable['output_type'] = 'display_data';\n",
              "        await google.colab.output.renderOutput(dataTable, element);\n",
              "        const docLink = document.createElement('div');\n",
              "        docLink.innerHTML = docLinkHtml;\n",
              "        element.appendChild(docLink);\n",
              "      }\n",
              "    </script>\n",
              "  </div>\n",
              "\n",
              "\n",
              "<div id=\"df-35cd7c9b-041c-432f-a4e8-bb78f1c24359\">\n",
              "  <button class=\"colab-df-quickchart\" onclick=\"quickchart('df-35cd7c9b-041c-432f-a4e8-bb78f1c24359')\"\n",
              "            title=\"Suggest charts\"\n",
              "            style=\"display:none;\">\n",
              "\n",
              "<svg xmlns=\"http://www.w3.org/2000/svg\" height=\"24px\"viewBox=\"0 0 24 24\"\n",
              "     width=\"24px\">\n",
              "    <g>\n",
              "        <path d=\"M19 3H5c-1.1 0-2 .9-2 2v14c0 1.1.9 2 2 2h14c1.1 0 2-.9 2-2V5c0-1.1-.9-2-2-2zM9 17H7v-7h2v7zm4 0h-2V7h2v10zm4 0h-2v-4h2v4z\"/>\n",
              "    </g>\n",
              "</svg>\n",
              "  </button>\n",
              "\n",
              "<style>\n",
              "  .colab-df-quickchart {\n",
              "      --bg-color: #E8F0FE;\n",
              "      --fill-color: #1967D2;\n",
              "      --hover-bg-color: #E2EBFA;\n",
              "      --hover-fill-color: #174EA6;\n",
              "      --disabled-fill-color: #AAA;\n",
              "      --disabled-bg-color: #DDD;\n",
              "  }\n",
              "\n",
              "  [theme=dark] .colab-df-quickchart {\n",
              "      --bg-color: #3B4455;\n",
              "      --fill-color: #D2E3FC;\n",
              "      --hover-bg-color: #434B5C;\n",
              "      --hover-fill-color: #FFFFFF;\n",
              "      --disabled-bg-color: #3B4455;\n",
              "      --disabled-fill-color: #666;\n",
              "  }\n",
              "\n",
              "  .colab-df-quickchart {\n",
              "    background-color: var(--bg-color);\n",
              "    border: none;\n",
              "    border-radius: 50%;\n",
              "    cursor: pointer;\n",
              "    display: none;\n",
              "    fill: var(--fill-color);\n",
              "    height: 32px;\n",
              "    padding: 0;\n",
              "    width: 32px;\n",
              "  }\n",
              "\n",
              "  .colab-df-quickchart:hover {\n",
              "    background-color: var(--hover-bg-color);\n",
              "    box-shadow: 0 1px 2px rgba(60, 64, 67, 0.3), 0 1px 3px 1px rgba(60, 64, 67, 0.15);\n",
              "    fill: var(--button-hover-fill-color);\n",
              "  }\n",
              "\n",
              "  .colab-df-quickchart-complete:disabled,\n",
              "  .colab-df-quickchart-complete:disabled:hover {\n",
              "    background-color: var(--disabled-bg-color);\n",
              "    fill: var(--disabled-fill-color);\n",
              "    box-shadow: none;\n",
              "  }\n",
              "\n",
              "  .colab-df-spinner {\n",
              "    border: 2px solid var(--fill-color);\n",
              "    border-color: transparent;\n",
              "    border-bottom-color: var(--fill-color);\n",
              "    animation:\n",
              "      spin 1s steps(1) infinite;\n",
              "  }\n",
              "\n",
              "  @keyframes spin {\n",
              "    0% {\n",
              "      border-color: transparent;\n",
              "      border-bottom-color: var(--fill-color);\n",
              "      border-left-color: var(--fill-color);\n",
              "    }\n",
              "    20% {\n",
              "      border-color: transparent;\n",
              "      border-left-color: var(--fill-color);\n",
              "      border-top-color: var(--fill-color);\n",
              "    }\n",
              "    30% {\n",
              "      border-color: transparent;\n",
              "      border-left-color: var(--fill-color);\n",
              "      border-top-color: var(--fill-color);\n",
              "      border-right-color: var(--fill-color);\n",
              "    }\n",
              "    40% {\n",
              "      border-color: transparent;\n",
              "      border-right-color: var(--fill-color);\n",
              "      border-top-color: var(--fill-color);\n",
              "    }\n",
              "    60% {\n",
              "      border-color: transparent;\n",
              "      border-right-color: var(--fill-color);\n",
              "    }\n",
              "    80% {\n",
              "      border-color: transparent;\n",
              "      border-right-color: var(--fill-color);\n",
              "      border-bottom-color: var(--fill-color);\n",
              "    }\n",
              "    90% {\n",
              "      border-color: transparent;\n",
              "      border-bottom-color: var(--fill-color);\n",
              "    }\n",
              "  }\n",
              "</style>\n",
              "\n",
              "  <script>\n",
              "    async function quickchart(key) {\n",
              "      const quickchartButtonEl =\n",
              "        document.querySelector('#' + key + ' button');\n",
              "      quickchartButtonEl.disabled = true;  // To prevent multiple clicks.\n",
              "      quickchartButtonEl.classList.add('colab-df-spinner');\n",
              "      try {\n",
              "        const charts = await google.colab.kernel.invokeFunction(\n",
              "            'suggestCharts', [key], {});\n",
              "      } catch (error) {\n",
              "        console.error('Error during call to suggestCharts:', error);\n",
              "      }\n",
              "      quickchartButtonEl.classList.remove('colab-df-spinner');\n",
              "      quickchartButtonEl.classList.add('colab-df-quickchart-complete');\n",
              "    }\n",
              "    (() => {\n",
              "      let quickchartButtonEl =\n",
              "        document.querySelector('#df-35cd7c9b-041c-432f-a4e8-bb78f1c24359 button');\n",
              "      quickchartButtonEl.style.display =\n",
              "        google.colab.kernel.accessAllowed ? 'block' : 'none';\n",
              "    })();\n",
              "  </script>\n",
              "</div>\n",
              "\n",
              "    </div>\n",
              "  </div>\n"
            ],
            "application/vnd.google.colaboratory.intrinsic+json": {
              "type": "dataframe",
              "variable_name": "df"
            }
          },
          "metadata": {},
          "execution_count": 27
        }
      ],
      "execution_count": 27
    },
    {
      "cell_type": "markdown",
      "source": [
        "### Question 1\n",
        "\n",
        "Display the data types of each column using the function dtypes. Take a screenshot of your code and output. You will need to submit the screenshot for the final project.\n"
      ],
      "metadata": {
        "id": "yspSebKM5YEa"
      }
    },
    {
      "cell_type": "code",
      "source": [
        "#Enter Your Code, Execute and take the Screenshot\n",
        "df.dtypes"
      ],
      "metadata": {
        "trusted": true,
        "colab": {
          "base_uri": "https://localhost:8080/",
          "height": 774
        },
        "id": "PAATshLa5YEa",
        "outputId": "72dd2f66-c703-44f6-805b-1dda7add6ec3"
      },
      "outputs": [
        {
          "output_type": "execute_result",
          "data": {
            "text/plain": [
              "Unnamed: 0         int64\n",
              "id                 int64\n",
              "date              object\n",
              "price            float64\n",
              "bedrooms         float64\n",
              "bathrooms        float64\n",
              "sqft_living        int64\n",
              "sqft_lot           int64\n",
              "floors           float64\n",
              "waterfront         int64\n",
              "view               int64\n",
              "condition          int64\n",
              "grade              int64\n",
              "sqft_above         int64\n",
              "sqft_basement      int64\n",
              "yr_built           int64\n",
              "yr_renovated       int64\n",
              "zipcode            int64\n",
              "lat              float64\n",
              "long             float64\n",
              "sqft_living15      int64\n",
              "sqft_lot15         int64\n",
              "dtype: object"
            ],
            "text/html": [
              "<div>\n",
              "<style scoped>\n",
              "    .dataframe tbody tr th:only-of-type {\n",
              "        vertical-align: middle;\n",
              "    }\n",
              "\n",
              "    .dataframe tbody tr th {\n",
              "        vertical-align: top;\n",
              "    }\n",
              "\n",
              "    .dataframe thead th {\n",
              "        text-align: right;\n",
              "    }\n",
              "</style>\n",
              "<table border=\"1\" class=\"dataframe\">\n",
              "  <thead>\n",
              "    <tr style=\"text-align: right;\">\n",
              "      <th></th>\n",
              "      <th>0</th>\n",
              "    </tr>\n",
              "  </thead>\n",
              "  <tbody>\n",
              "    <tr>\n",
              "      <th>Unnamed: 0</th>\n",
              "      <td>int64</td>\n",
              "    </tr>\n",
              "    <tr>\n",
              "      <th>id</th>\n",
              "      <td>int64</td>\n",
              "    </tr>\n",
              "    <tr>\n",
              "      <th>date</th>\n",
              "      <td>object</td>\n",
              "    </tr>\n",
              "    <tr>\n",
              "      <th>price</th>\n",
              "      <td>float64</td>\n",
              "    </tr>\n",
              "    <tr>\n",
              "      <th>bedrooms</th>\n",
              "      <td>float64</td>\n",
              "    </tr>\n",
              "    <tr>\n",
              "      <th>bathrooms</th>\n",
              "      <td>float64</td>\n",
              "    </tr>\n",
              "    <tr>\n",
              "      <th>sqft_living</th>\n",
              "      <td>int64</td>\n",
              "    </tr>\n",
              "    <tr>\n",
              "      <th>sqft_lot</th>\n",
              "      <td>int64</td>\n",
              "    </tr>\n",
              "    <tr>\n",
              "      <th>floors</th>\n",
              "      <td>float64</td>\n",
              "    </tr>\n",
              "    <tr>\n",
              "      <th>waterfront</th>\n",
              "      <td>int64</td>\n",
              "    </tr>\n",
              "    <tr>\n",
              "      <th>view</th>\n",
              "      <td>int64</td>\n",
              "    </tr>\n",
              "    <tr>\n",
              "      <th>condition</th>\n",
              "      <td>int64</td>\n",
              "    </tr>\n",
              "    <tr>\n",
              "      <th>grade</th>\n",
              "      <td>int64</td>\n",
              "    </tr>\n",
              "    <tr>\n",
              "      <th>sqft_above</th>\n",
              "      <td>int64</td>\n",
              "    </tr>\n",
              "    <tr>\n",
              "      <th>sqft_basement</th>\n",
              "      <td>int64</td>\n",
              "    </tr>\n",
              "    <tr>\n",
              "      <th>yr_built</th>\n",
              "      <td>int64</td>\n",
              "    </tr>\n",
              "    <tr>\n",
              "      <th>yr_renovated</th>\n",
              "      <td>int64</td>\n",
              "    </tr>\n",
              "    <tr>\n",
              "      <th>zipcode</th>\n",
              "      <td>int64</td>\n",
              "    </tr>\n",
              "    <tr>\n",
              "      <th>lat</th>\n",
              "      <td>float64</td>\n",
              "    </tr>\n",
              "    <tr>\n",
              "      <th>long</th>\n",
              "      <td>float64</td>\n",
              "    </tr>\n",
              "    <tr>\n",
              "      <th>sqft_living15</th>\n",
              "      <td>int64</td>\n",
              "    </tr>\n",
              "    <tr>\n",
              "      <th>sqft_lot15</th>\n",
              "      <td>int64</td>\n",
              "    </tr>\n",
              "  </tbody>\n",
              "</table>\n",
              "</div><br><label><b>dtype:</b> object</label>"
            ]
          },
          "metadata": {},
          "execution_count": 28
        }
      ],
      "execution_count": 28
    },
    {
      "cell_type": "markdown",
      "source": [
        "We use the method describe to obtain a statistical summary of the dataframe.\n"
      ],
      "metadata": {
        "id": "vDTHxYHx5YEa"
      }
    },
    {
      "cell_type": "code",
      "source": [
        "df.describe()"
      ],
      "metadata": {
        "trusted": true,
        "colab": {
          "base_uri": "https://localhost:8080/",
          "height": 350
        },
        "id": "6JXKYzPA5YEa",
        "outputId": "a91d0d3d-b48e-4235-d45d-597f2af9379e"
      },
      "outputs": [
        {
          "output_type": "execute_result",
          "data": {
            "text/plain": [
              "        Unnamed: 0            id         price      bedrooms     bathrooms  \\\n",
              "count  21613.00000  2.161300e+04  2.161300e+04  21600.000000  21603.000000   \n",
              "mean   10806.00000  4.580302e+09  5.400881e+05      3.372870      2.115736   \n",
              "std     6239.28002  2.876566e+09  3.671272e+05      0.926657      0.768996   \n",
              "min        0.00000  1.000102e+06  7.500000e+04      1.000000      0.500000   \n",
              "25%     5403.00000  2.123049e+09  3.219500e+05      3.000000      1.750000   \n",
              "50%    10806.00000  3.904930e+09  4.500000e+05      3.000000      2.250000   \n",
              "75%    16209.00000  7.308900e+09  6.450000e+05      4.000000      2.500000   \n",
              "max    21612.00000  9.900000e+09  7.700000e+06     33.000000      8.000000   \n",
              "\n",
              "        sqft_living      sqft_lot        floors    waterfront          view  \\\n",
              "count  21613.000000  2.161300e+04  21613.000000  21613.000000  21613.000000   \n",
              "mean    2079.899736  1.510697e+04      1.494309      0.007542      0.234303   \n",
              "std      918.440897  4.142051e+04      0.539989      0.086517      0.766318   \n",
              "min      290.000000  5.200000e+02      1.000000      0.000000      0.000000   \n",
              "25%     1427.000000  5.040000e+03      1.000000      0.000000      0.000000   \n",
              "50%     1910.000000  7.618000e+03      1.500000      0.000000      0.000000   \n",
              "75%     2550.000000  1.068800e+04      2.000000      0.000000      0.000000   \n",
              "max    13540.000000  1.651359e+06      3.500000      1.000000      4.000000   \n",
              "\n",
              "       ...         grade    sqft_above  sqft_basement      yr_built  \\\n",
              "count  ...  21613.000000  21613.000000   21613.000000  21613.000000   \n",
              "mean   ...      7.656873   1788.390691     291.509045   1971.005136   \n",
              "std    ...      1.175459    828.090978     442.575043     29.373411   \n",
              "min    ...      1.000000    290.000000       0.000000   1900.000000   \n",
              "25%    ...      7.000000   1190.000000       0.000000   1951.000000   \n",
              "50%    ...      7.000000   1560.000000       0.000000   1975.000000   \n",
              "75%    ...      8.000000   2210.000000     560.000000   1997.000000   \n",
              "max    ...     13.000000   9410.000000    4820.000000   2015.000000   \n",
              "\n",
              "       yr_renovated       zipcode           lat          long  sqft_living15  \\\n",
              "count  21613.000000  21613.000000  21613.000000  21613.000000   21613.000000   \n",
              "mean      84.402258  98077.939805     47.560053   -122.213896    1986.552492   \n",
              "std      401.679240     53.505026      0.138564      0.140828     685.391304   \n",
              "min        0.000000  98001.000000     47.155900   -122.519000     399.000000   \n",
              "25%        0.000000  98033.000000     47.471000   -122.328000    1490.000000   \n",
              "50%        0.000000  98065.000000     47.571800   -122.230000    1840.000000   \n",
              "75%        0.000000  98118.000000     47.678000   -122.125000    2360.000000   \n",
              "max     2015.000000  98199.000000     47.777600   -121.315000    6210.000000   \n",
              "\n",
              "          sqft_lot15  \n",
              "count   21613.000000  \n",
              "mean    12768.455652  \n",
              "std     27304.179631  \n",
              "min       651.000000  \n",
              "25%      5100.000000  \n",
              "50%      7620.000000  \n",
              "75%     10083.000000  \n",
              "max    871200.000000  \n",
              "\n",
              "[8 rows x 21 columns]"
            ],
            "text/html": [
              "\n",
              "  <div id=\"df-24b19091-c257-4028-b369-338465e411a0\" class=\"colab-df-container\">\n",
              "    <div>\n",
              "<style scoped>\n",
              "    .dataframe tbody tr th:only-of-type {\n",
              "        vertical-align: middle;\n",
              "    }\n",
              "\n",
              "    .dataframe tbody tr th {\n",
              "        vertical-align: top;\n",
              "    }\n",
              "\n",
              "    .dataframe thead th {\n",
              "        text-align: right;\n",
              "    }\n",
              "</style>\n",
              "<table border=\"1\" class=\"dataframe\">\n",
              "  <thead>\n",
              "    <tr style=\"text-align: right;\">\n",
              "      <th></th>\n",
              "      <th>Unnamed: 0</th>\n",
              "      <th>id</th>\n",
              "      <th>price</th>\n",
              "      <th>bedrooms</th>\n",
              "      <th>bathrooms</th>\n",
              "      <th>sqft_living</th>\n",
              "      <th>sqft_lot</th>\n",
              "      <th>floors</th>\n",
              "      <th>waterfront</th>\n",
              "      <th>view</th>\n",
              "      <th>...</th>\n",
              "      <th>grade</th>\n",
              "      <th>sqft_above</th>\n",
              "      <th>sqft_basement</th>\n",
              "      <th>yr_built</th>\n",
              "      <th>yr_renovated</th>\n",
              "      <th>zipcode</th>\n",
              "      <th>lat</th>\n",
              "      <th>long</th>\n",
              "      <th>sqft_living15</th>\n",
              "      <th>sqft_lot15</th>\n",
              "    </tr>\n",
              "  </thead>\n",
              "  <tbody>\n",
              "    <tr>\n",
              "      <th>count</th>\n",
              "      <td>21613.00000</td>\n",
              "      <td>2.161300e+04</td>\n",
              "      <td>2.161300e+04</td>\n",
              "      <td>21600.000000</td>\n",
              "      <td>21603.000000</td>\n",
              "      <td>21613.000000</td>\n",
              "      <td>2.161300e+04</td>\n",
              "      <td>21613.000000</td>\n",
              "      <td>21613.000000</td>\n",
              "      <td>21613.000000</td>\n",
              "      <td>...</td>\n",
              "      <td>21613.000000</td>\n",
              "      <td>21613.000000</td>\n",
              "      <td>21613.000000</td>\n",
              "      <td>21613.000000</td>\n",
              "      <td>21613.000000</td>\n",
              "      <td>21613.000000</td>\n",
              "      <td>21613.000000</td>\n",
              "      <td>21613.000000</td>\n",
              "      <td>21613.000000</td>\n",
              "      <td>21613.000000</td>\n",
              "    </tr>\n",
              "    <tr>\n",
              "      <th>mean</th>\n",
              "      <td>10806.00000</td>\n",
              "      <td>4.580302e+09</td>\n",
              "      <td>5.400881e+05</td>\n",
              "      <td>3.372870</td>\n",
              "      <td>2.115736</td>\n",
              "      <td>2079.899736</td>\n",
              "      <td>1.510697e+04</td>\n",
              "      <td>1.494309</td>\n",
              "      <td>0.007542</td>\n",
              "      <td>0.234303</td>\n",
              "      <td>...</td>\n",
              "      <td>7.656873</td>\n",
              "      <td>1788.390691</td>\n",
              "      <td>291.509045</td>\n",
              "      <td>1971.005136</td>\n",
              "      <td>84.402258</td>\n",
              "      <td>98077.939805</td>\n",
              "      <td>47.560053</td>\n",
              "      <td>-122.213896</td>\n",
              "      <td>1986.552492</td>\n",
              "      <td>12768.455652</td>\n",
              "    </tr>\n",
              "    <tr>\n",
              "      <th>std</th>\n",
              "      <td>6239.28002</td>\n",
              "      <td>2.876566e+09</td>\n",
              "      <td>3.671272e+05</td>\n",
              "      <td>0.926657</td>\n",
              "      <td>0.768996</td>\n",
              "      <td>918.440897</td>\n",
              "      <td>4.142051e+04</td>\n",
              "      <td>0.539989</td>\n",
              "      <td>0.086517</td>\n",
              "      <td>0.766318</td>\n",
              "      <td>...</td>\n",
              "      <td>1.175459</td>\n",
              "      <td>828.090978</td>\n",
              "      <td>442.575043</td>\n",
              "      <td>29.373411</td>\n",
              "      <td>401.679240</td>\n",
              "      <td>53.505026</td>\n",
              "      <td>0.138564</td>\n",
              "      <td>0.140828</td>\n",
              "      <td>685.391304</td>\n",
              "      <td>27304.179631</td>\n",
              "    </tr>\n",
              "    <tr>\n",
              "      <th>min</th>\n",
              "      <td>0.00000</td>\n",
              "      <td>1.000102e+06</td>\n",
              "      <td>7.500000e+04</td>\n",
              "      <td>1.000000</td>\n",
              "      <td>0.500000</td>\n",
              "      <td>290.000000</td>\n",
              "      <td>5.200000e+02</td>\n",
              "      <td>1.000000</td>\n",
              "      <td>0.000000</td>\n",
              "      <td>0.000000</td>\n",
              "      <td>...</td>\n",
              "      <td>1.000000</td>\n",
              "      <td>290.000000</td>\n",
              "      <td>0.000000</td>\n",
              "      <td>1900.000000</td>\n",
              "      <td>0.000000</td>\n",
              "      <td>98001.000000</td>\n",
              "      <td>47.155900</td>\n",
              "      <td>-122.519000</td>\n",
              "      <td>399.000000</td>\n",
              "      <td>651.000000</td>\n",
              "    </tr>\n",
              "    <tr>\n",
              "      <th>25%</th>\n",
              "      <td>5403.00000</td>\n",
              "      <td>2.123049e+09</td>\n",
              "      <td>3.219500e+05</td>\n",
              "      <td>3.000000</td>\n",
              "      <td>1.750000</td>\n",
              "      <td>1427.000000</td>\n",
              "      <td>5.040000e+03</td>\n",
              "      <td>1.000000</td>\n",
              "      <td>0.000000</td>\n",
              "      <td>0.000000</td>\n",
              "      <td>...</td>\n",
              "      <td>7.000000</td>\n",
              "      <td>1190.000000</td>\n",
              "      <td>0.000000</td>\n",
              "      <td>1951.000000</td>\n",
              "      <td>0.000000</td>\n",
              "      <td>98033.000000</td>\n",
              "      <td>47.471000</td>\n",
              "      <td>-122.328000</td>\n",
              "      <td>1490.000000</td>\n",
              "      <td>5100.000000</td>\n",
              "    </tr>\n",
              "    <tr>\n",
              "      <th>50%</th>\n",
              "      <td>10806.00000</td>\n",
              "      <td>3.904930e+09</td>\n",
              "      <td>4.500000e+05</td>\n",
              "      <td>3.000000</td>\n",
              "      <td>2.250000</td>\n",
              "      <td>1910.000000</td>\n",
              "      <td>7.618000e+03</td>\n",
              "      <td>1.500000</td>\n",
              "      <td>0.000000</td>\n",
              "      <td>0.000000</td>\n",
              "      <td>...</td>\n",
              "      <td>7.000000</td>\n",
              "      <td>1560.000000</td>\n",
              "      <td>0.000000</td>\n",
              "      <td>1975.000000</td>\n",
              "      <td>0.000000</td>\n",
              "      <td>98065.000000</td>\n",
              "      <td>47.571800</td>\n",
              "      <td>-122.230000</td>\n",
              "      <td>1840.000000</td>\n",
              "      <td>7620.000000</td>\n",
              "    </tr>\n",
              "    <tr>\n",
              "      <th>75%</th>\n",
              "      <td>16209.00000</td>\n",
              "      <td>7.308900e+09</td>\n",
              "      <td>6.450000e+05</td>\n",
              "      <td>4.000000</td>\n",
              "      <td>2.500000</td>\n",
              "      <td>2550.000000</td>\n",
              "      <td>1.068800e+04</td>\n",
              "      <td>2.000000</td>\n",
              "      <td>0.000000</td>\n",
              "      <td>0.000000</td>\n",
              "      <td>...</td>\n",
              "      <td>8.000000</td>\n",
              "      <td>2210.000000</td>\n",
              "      <td>560.000000</td>\n",
              "      <td>1997.000000</td>\n",
              "      <td>0.000000</td>\n",
              "      <td>98118.000000</td>\n",
              "      <td>47.678000</td>\n",
              "      <td>-122.125000</td>\n",
              "      <td>2360.000000</td>\n",
              "      <td>10083.000000</td>\n",
              "    </tr>\n",
              "    <tr>\n",
              "      <th>max</th>\n",
              "      <td>21612.00000</td>\n",
              "      <td>9.900000e+09</td>\n",
              "      <td>7.700000e+06</td>\n",
              "      <td>33.000000</td>\n",
              "      <td>8.000000</td>\n",
              "      <td>13540.000000</td>\n",
              "      <td>1.651359e+06</td>\n",
              "      <td>3.500000</td>\n",
              "      <td>1.000000</td>\n",
              "      <td>4.000000</td>\n",
              "      <td>...</td>\n",
              "      <td>13.000000</td>\n",
              "      <td>9410.000000</td>\n",
              "      <td>4820.000000</td>\n",
              "      <td>2015.000000</td>\n",
              "      <td>2015.000000</td>\n",
              "      <td>98199.000000</td>\n",
              "      <td>47.777600</td>\n",
              "      <td>-121.315000</td>\n",
              "      <td>6210.000000</td>\n",
              "      <td>871200.000000</td>\n",
              "    </tr>\n",
              "  </tbody>\n",
              "</table>\n",
              "<p>8 rows × 21 columns</p>\n",
              "</div>\n",
              "    <div class=\"colab-df-buttons\">\n",
              "\n",
              "  <div class=\"colab-df-container\">\n",
              "    <button class=\"colab-df-convert\" onclick=\"convertToInteractive('df-24b19091-c257-4028-b369-338465e411a0')\"\n",
              "            title=\"Convert this dataframe to an interactive table.\"\n",
              "            style=\"display:none;\">\n",
              "\n",
              "  <svg xmlns=\"http://www.w3.org/2000/svg\" height=\"24px\" viewBox=\"0 -960 960 960\">\n",
              "    <path d=\"M120-120v-720h720v720H120Zm60-500h600v-160H180v160Zm220 220h160v-160H400v160Zm0 220h160v-160H400v160ZM180-400h160v-160H180v160Zm440 0h160v-160H620v160ZM180-180h160v-160H180v160Zm440 0h160v-160H620v160Z\"/>\n",
              "  </svg>\n",
              "    </button>\n",
              "\n",
              "  <style>\n",
              "    .colab-df-container {\n",
              "      display:flex;\n",
              "      gap: 12px;\n",
              "    }\n",
              "\n",
              "    .colab-df-convert {\n",
              "      background-color: #E8F0FE;\n",
              "      border: none;\n",
              "      border-radius: 50%;\n",
              "      cursor: pointer;\n",
              "      display: none;\n",
              "      fill: #1967D2;\n",
              "      height: 32px;\n",
              "      padding: 0 0 0 0;\n",
              "      width: 32px;\n",
              "    }\n",
              "\n",
              "    .colab-df-convert:hover {\n",
              "      background-color: #E2EBFA;\n",
              "      box-shadow: 0px 1px 2px rgba(60, 64, 67, 0.3), 0px 1px 3px 1px rgba(60, 64, 67, 0.15);\n",
              "      fill: #174EA6;\n",
              "    }\n",
              "\n",
              "    .colab-df-buttons div {\n",
              "      margin-bottom: 4px;\n",
              "    }\n",
              "\n",
              "    [theme=dark] .colab-df-convert {\n",
              "      background-color: #3B4455;\n",
              "      fill: #D2E3FC;\n",
              "    }\n",
              "\n",
              "    [theme=dark] .colab-df-convert:hover {\n",
              "      background-color: #434B5C;\n",
              "      box-shadow: 0px 1px 3px 1px rgba(0, 0, 0, 0.15);\n",
              "      filter: drop-shadow(0px 1px 2px rgba(0, 0, 0, 0.3));\n",
              "      fill: #FFFFFF;\n",
              "    }\n",
              "  </style>\n",
              "\n",
              "    <script>\n",
              "      const buttonEl =\n",
              "        document.querySelector('#df-24b19091-c257-4028-b369-338465e411a0 button.colab-df-convert');\n",
              "      buttonEl.style.display =\n",
              "        google.colab.kernel.accessAllowed ? 'block' : 'none';\n",
              "\n",
              "      async function convertToInteractive(key) {\n",
              "        const element = document.querySelector('#df-24b19091-c257-4028-b369-338465e411a0');\n",
              "        const dataTable =\n",
              "          await google.colab.kernel.invokeFunction('convertToInteractive',\n",
              "                                                    [key], {});\n",
              "        if (!dataTable) return;\n",
              "\n",
              "        const docLinkHtml = 'Like what you see? Visit the ' +\n",
              "          '<a target=\"_blank\" href=https://colab.research.google.com/notebooks/data_table.ipynb>data table notebook</a>'\n",
              "          + ' to learn more about interactive tables.';\n",
              "        element.innerHTML = '';\n",
              "        dataTable['output_type'] = 'display_data';\n",
              "        await google.colab.output.renderOutput(dataTable, element);\n",
              "        const docLink = document.createElement('div');\n",
              "        docLink.innerHTML = docLinkHtml;\n",
              "        element.appendChild(docLink);\n",
              "      }\n",
              "    </script>\n",
              "  </div>\n",
              "\n",
              "\n",
              "<div id=\"df-79aa51d0-f704-40c6-a710-e10c781be751\">\n",
              "  <button class=\"colab-df-quickchart\" onclick=\"quickchart('df-79aa51d0-f704-40c6-a710-e10c781be751')\"\n",
              "            title=\"Suggest charts\"\n",
              "            style=\"display:none;\">\n",
              "\n",
              "<svg xmlns=\"http://www.w3.org/2000/svg\" height=\"24px\"viewBox=\"0 0 24 24\"\n",
              "     width=\"24px\">\n",
              "    <g>\n",
              "        <path d=\"M19 3H5c-1.1 0-2 .9-2 2v14c0 1.1.9 2 2 2h14c1.1 0 2-.9 2-2V5c0-1.1-.9-2-2-2zM9 17H7v-7h2v7zm4 0h-2V7h2v10zm4 0h-2v-4h2v4z\"/>\n",
              "    </g>\n",
              "</svg>\n",
              "  </button>\n",
              "\n",
              "<style>\n",
              "  .colab-df-quickchart {\n",
              "      --bg-color: #E8F0FE;\n",
              "      --fill-color: #1967D2;\n",
              "      --hover-bg-color: #E2EBFA;\n",
              "      --hover-fill-color: #174EA6;\n",
              "      --disabled-fill-color: #AAA;\n",
              "      --disabled-bg-color: #DDD;\n",
              "  }\n",
              "\n",
              "  [theme=dark] .colab-df-quickchart {\n",
              "      --bg-color: #3B4455;\n",
              "      --fill-color: #D2E3FC;\n",
              "      --hover-bg-color: #434B5C;\n",
              "      --hover-fill-color: #FFFFFF;\n",
              "      --disabled-bg-color: #3B4455;\n",
              "      --disabled-fill-color: #666;\n",
              "  }\n",
              "\n",
              "  .colab-df-quickchart {\n",
              "    background-color: var(--bg-color);\n",
              "    border: none;\n",
              "    border-radius: 50%;\n",
              "    cursor: pointer;\n",
              "    display: none;\n",
              "    fill: var(--fill-color);\n",
              "    height: 32px;\n",
              "    padding: 0;\n",
              "    width: 32px;\n",
              "  }\n",
              "\n",
              "  .colab-df-quickchart:hover {\n",
              "    background-color: var(--hover-bg-color);\n",
              "    box-shadow: 0 1px 2px rgba(60, 64, 67, 0.3), 0 1px 3px 1px rgba(60, 64, 67, 0.15);\n",
              "    fill: var(--button-hover-fill-color);\n",
              "  }\n",
              "\n",
              "  .colab-df-quickchart-complete:disabled,\n",
              "  .colab-df-quickchart-complete:disabled:hover {\n",
              "    background-color: var(--disabled-bg-color);\n",
              "    fill: var(--disabled-fill-color);\n",
              "    box-shadow: none;\n",
              "  }\n",
              "\n",
              "  .colab-df-spinner {\n",
              "    border: 2px solid var(--fill-color);\n",
              "    border-color: transparent;\n",
              "    border-bottom-color: var(--fill-color);\n",
              "    animation:\n",
              "      spin 1s steps(1) infinite;\n",
              "  }\n",
              "\n",
              "  @keyframes spin {\n",
              "    0% {\n",
              "      border-color: transparent;\n",
              "      border-bottom-color: var(--fill-color);\n",
              "      border-left-color: var(--fill-color);\n",
              "    }\n",
              "    20% {\n",
              "      border-color: transparent;\n",
              "      border-left-color: var(--fill-color);\n",
              "      border-top-color: var(--fill-color);\n",
              "    }\n",
              "    30% {\n",
              "      border-color: transparent;\n",
              "      border-left-color: var(--fill-color);\n",
              "      border-top-color: var(--fill-color);\n",
              "      border-right-color: var(--fill-color);\n",
              "    }\n",
              "    40% {\n",
              "      border-color: transparent;\n",
              "      border-right-color: var(--fill-color);\n",
              "      border-top-color: var(--fill-color);\n",
              "    }\n",
              "    60% {\n",
              "      border-color: transparent;\n",
              "      border-right-color: var(--fill-color);\n",
              "    }\n",
              "    80% {\n",
              "      border-color: transparent;\n",
              "      border-right-color: var(--fill-color);\n",
              "      border-bottom-color: var(--fill-color);\n",
              "    }\n",
              "    90% {\n",
              "      border-color: transparent;\n",
              "      border-bottom-color: var(--fill-color);\n",
              "    }\n",
              "  }\n",
              "</style>\n",
              "\n",
              "  <script>\n",
              "    async function quickchart(key) {\n",
              "      const quickchartButtonEl =\n",
              "        document.querySelector('#' + key + ' button');\n",
              "      quickchartButtonEl.disabled = true;  // To prevent multiple clicks.\n",
              "      quickchartButtonEl.classList.add('colab-df-spinner');\n",
              "      try {\n",
              "        const charts = await google.colab.kernel.invokeFunction(\n",
              "            'suggestCharts', [key], {});\n",
              "      } catch (error) {\n",
              "        console.error('Error during call to suggestCharts:', error);\n",
              "      }\n",
              "      quickchartButtonEl.classList.remove('colab-df-spinner');\n",
              "      quickchartButtonEl.classList.add('colab-df-quickchart-complete');\n",
              "    }\n",
              "    (() => {\n",
              "      let quickchartButtonEl =\n",
              "        document.querySelector('#df-79aa51d0-f704-40c6-a710-e10c781be751 button');\n",
              "      quickchartButtonEl.style.display =\n",
              "        google.colab.kernel.accessAllowed ? 'block' : 'none';\n",
              "    })();\n",
              "  </script>\n",
              "</div>\n",
              "\n",
              "    </div>\n",
              "  </div>\n"
            ],
            "application/vnd.google.colaboratory.intrinsic+json": {
              "type": "dataframe"
            }
          },
          "metadata": {},
          "execution_count": 29
        }
      ],
      "execution_count": 29
    },
    {
      "cell_type": "markdown",
      "source": [
        "# Module 2: Data Wrangling\n"
      ],
      "metadata": {
        "id": "TRflt3q45YEa"
      }
    },
    {
      "cell_type": "markdown",
      "source": [
        "### Question 2\n",
        "\n",
        "Drop the columns <code>\"id\"</code>  and <code>\"Unnamed: 0\"</code> from axis 1 using the method <code>drop()</code>, then use the method <code>describe()</code> to obtain a statistical summary of the data. Make sure the <code>inplace</code> parameter is set to <code>True</code>. Take a screenshot of your code and output. You will need to submit the screenshot for the final project.\n"
      ],
      "metadata": {
        "id": "sdD15Eij5YEa"
      }
    },
    {
      "cell_type": "code",
      "source": [
        "#Enter Your Code, Execute and take the Screenshot\n",
        "\n",
        "df.drop(['id', 'Unnamed: 0'], axis=1, inplace=True)\n",
        "df.describe()"
      ],
      "metadata": {
        "trusted": true,
        "colab": {
          "base_uri": "https://localhost:8080/",
          "height": 320
        },
        "id": "YNgA0JXS5YEa",
        "outputId": "370b614b-e383-4f4c-a085-7889d47ce5f0"
      },
      "outputs": [
        {
          "output_type": "execute_result",
          "data": {
            "text/plain": [
              "              price      bedrooms     bathrooms   sqft_living      sqft_lot  \\\n",
              "count  2.161300e+04  21600.000000  21603.000000  21613.000000  2.161300e+04   \n",
              "mean   5.400881e+05      3.372870      2.115736   2079.899736  1.510697e+04   \n",
              "std    3.671272e+05      0.926657      0.768996    918.440897  4.142051e+04   \n",
              "min    7.500000e+04      1.000000      0.500000    290.000000  5.200000e+02   \n",
              "25%    3.219500e+05      3.000000      1.750000   1427.000000  5.040000e+03   \n",
              "50%    4.500000e+05      3.000000      2.250000   1910.000000  7.618000e+03   \n",
              "75%    6.450000e+05      4.000000      2.500000   2550.000000  1.068800e+04   \n",
              "max    7.700000e+06     33.000000      8.000000  13540.000000  1.651359e+06   \n",
              "\n",
              "             floors    waterfront          view     condition         grade  \\\n",
              "count  21613.000000  21613.000000  21613.000000  21613.000000  21613.000000   \n",
              "mean       1.494309      0.007542      0.234303      3.409430      7.656873   \n",
              "std        0.539989      0.086517      0.766318      0.650743      1.175459   \n",
              "min        1.000000      0.000000      0.000000      1.000000      1.000000   \n",
              "25%        1.000000      0.000000      0.000000      3.000000      7.000000   \n",
              "50%        1.500000      0.000000      0.000000      3.000000      7.000000   \n",
              "75%        2.000000      0.000000      0.000000      4.000000      8.000000   \n",
              "max        3.500000      1.000000      4.000000      5.000000     13.000000   \n",
              "\n",
              "         sqft_above  sqft_basement      yr_built  yr_renovated       zipcode  \\\n",
              "count  21613.000000   21613.000000  21613.000000  21613.000000  21613.000000   \n",
              "mean    1788.390691     291.509045   1971.005136     84.402258  98077.939805   \n",
              "std      828.090978     442.575043     29.373411    401.679240     53.505026   \n",
              "min      290.000000       0.000000   1900.000000      0.000000  98001.000000   \n",
              "25%     1190.000000       0.000000   1951.000000      0.000000  98033.000000   \n",
              "50%     1560.000000       0.000000   1975.000000      0.000000  98065.000000   \n",
              "75%     2210.000000     560.000000   1997.000000      0.000000  98118.000000   \n",
              "max     9410.000000    4820.000000   2015.000000   2015.000000  98199.000000   \n",
              "\n",
              "                lat          long  sqft_living15     sqft_lot15  \n",
              "count  21613.000000  21613.000000   21613.000000   21613.000000  \n",
              "mean      47.560053   -122.213896    1986.552492   12768.455652  \n",
              "std        0.138564      0.140828     685.391304   27304.179631  \n",
              "min       47.155900   -122.519000     399.000000     651.000000  \n",
              "25%       47.471000   -122.328000    1490.000000    5100.000000  \n",
              "50%       47.571800   -122.230000    1840.000000    7620.000000  \n",
              "75%       47.678000   -122.125000    2360.000000   10083.000000  \n",
              "max       47.777600   -121.315000    6210.000000  871200.000000  "
            ],
            "text/html": [
              "\n",
              "  <div id=\"df-65d87809-8c60-4a31-b481-6f01d06e0077\" class=\"colab-df-container\">\n",
              "    <div>\n",
              "<style scoped>\n",
              "    .dataframe tbody tr th:only-of-type {\n",
              "        vertical-align: middle;\n",
              "    }\n",
              "\n",
              "    .dataframe tbody tr th {\n",
              "        vertical-align: top;\n",
              "    }\n",
              "\n",
              "    .dataframe thead th {\n",
              "        text-align: right;\n",
              "    }\n",
              "</style>\n",
              "<table border=\"1\" class=\"dataframe\">\n",
              "  <thead>\n",
              "    <tr style=\"text-align: right;\">\n",
              "      <th></th>\n",
              "      <th>price</th>\n",
              "      <th>bedrooms</th>\n",
              "      <th>bathrooms</th>\n",
              "      <th>sqft_living</th>\n",
              "      <th>sqft_lot</th>\n",
              "      <th>floors</th>\n",
              "      <th>waterfront</th>\n",
              "      <th>view</th>\n",
              "      <th>condition</th>\n",
              "      <th>grade</th>\n",
              "      <th>sqft_above</th>\n",
              "      <th>sqft_basement</th>\n",
              "      <th>yr_built</th>\n",
              "      <th>yr_renovated</th>\n",
              "      <th>zipcode</th>\n",
              "      <th>lat</th>\n",
              "      <th>long</th>\n",
              "      <th>sqft_living15</th>\n",
              "      <th>sqft_lot15</th>\n",
              "    </tr>\n",
              "  </thead>\n",
              "  <tbody>\n",
              "    <tr>\n",
              "      <th>count</th>\n",
              "      <td>2.161300e+04</td>\n",
              "      <td>21600.000000</td>\n",
              "      <td>21603.000000</td>\n",
              "      <td>21613.000000</td>\n",
              "      <td>2.161300e+04</td>\n",
              "      <td>21613.000000</td>\n",
              "      <td>21613.000000</td>\n",
              "      <td>21613.000000</td>\n",
              "      <td>21613.000000</td>\n",
              "      <td>21613.000000</td>\n",
              "      <td>21613.000000</td>\n",
              "      <td>21613.000000</td>\n",
              "      <td>21613.000000</td>\n",
              "      <td>21613.000000</td>\n",
              "      <td>21613.000000</td>\n",
              "      <td>21613.000000</td>\n",
              "      <td>21613.000000</td>\n",
              "      <td>21613.000000</td>\n",
              "      <td>21613.000000</td>\n",
              "    </tr>\n",
              "    <tr>\n",
              "      <th>mean</th>\n",
              "      <td>5.400881e+05</td>\n",
              "      <td>3.372870</td>\n",
              "      <td>2.115736</td>\n",
              "      <td>2079.899736</td>\n",
              "      <td>1.510697e+04</td>\n",
              "      <td>1.494309</td>\n",
              "      <td>0.007542</td>\n",
              "      <td>0.234303</td>\n",
              "      <td>3.409430</td>\n",
              "      <td>7.656873</td>\n",
              "      <td>1788.390691</td>\n",
              "      <td>291.509045</td>\n",
              "      <td>1971.005136</td>\n",
              "      <td>84.402258</td>\n",
              "      <td>98077.939805</td>\n",
              "      <td>47.560053</td>\n",
              "      <td>-122.213896</td>\n",
              "      <td>1986.552492</td>\n",
              "      <td>12768.455652</td>\n",
              "    </tr>\n",
              "    <tr>\n",
              "      <th>std</th>\n",
              "      <td>3.671272e+05</td>\n",
              "      <td>0.926657</td>\n",
              "      <td>0.768996</td>\n",
              "      <td>918.440897</td>\n",
              "      <td>4.142051e+04</td>\n",
              "      <td>0.539989</td>\n",
              "      <td>0.086517</td>\n",
              "      <td>0.766318</td>\n",
              "      <td>0.650743</td>\n",
              "      <td>1.175459</td>\n",
              "      <td>828.090978</td>\n",
              "      <td>442.575043</td>\n",
              "      <td>29.373411</td>\n",
              "      <td>401.679240</td>\n",
              "      <td>53.505026</td>\n",
              "      <td>0.138564</td>\n",
              "      <td>0.140828</td>\n",
              "      <td>685.391304</td>\n",
              "      <td>27304.179631</td>\n",
              "    </tr>\n",
              "    <tr>\n",
              "      <th>min</th>\n",
              "      <td>7.500000e+04</td>\n",
              "      <td>1.000000</td>\n",
              "      <td>0.500000</td>\n",
              "      <td>290.000000</td>\n",
              "      <td>5.200000e+02</td>\n",
              "      <td>1.000000</td>\n",
              "      <td>0.000000</td>\n",
              "      <td>0.000000</td>\n",
              "      <td>1.000000</td>\n",
              "      <td>1.000000</td>\n",
              "      <td>290.000000</td>\n",
              "      <td>0.000000</td>\n",
              "      <td>1900.000000</td>\n",
              "      <td>0.000000</td>\n",
              "      <td>98001.000000</td>\n",
              "      <td>47.155900</td>\n",
              "      <td>-122.519000</td>\n",
              "      <td>399.000000</td>\n",
              "      <td>651.000000</td>\n",
              "    </tr>\n",
              "    <tr>\n",
              "      <th>25%</th>\n",
              "      <td>3.219500e+05</td>\n",
              "      <td>3.000000</td>\n",
              "      <td>1.750000</td>\n",
              "      <td>1427.000000</td>\n",
              "      <td>5.040000e+03</td>\n",
              "      <td>1.000000</td>\n",
              "      <td>0.000000</td>\n",
              "      <td>0.000000</td>\n",
              "      <td>3.000000</td>\n",
              "      <td>7.000000</td>\n",
              "      <td>1190.000000</td>\n",
              "      <td>0.000000</td>\n",
              "      <td>1951.000000</td>\n",
              "      <td>0.000000</td>\n",
              "      <td>98033.000000</td>\n",
              "      <td>47.471000</td>\n",
              "      <td>-122.328000</td>\n",
              "      <td>1490.000000</td>\n",
              "      <td>5100.000000</td>\n",
              "    </tr>\n",
              "    <tr>\n",
              "      <th>50%</th>\n",
              "      <td>4.500000e+05</td>\n",
              "      <td>3.000000</td>\n",
              "      <td>2.250000</td>\n",
              "      <td>1910.000000</td>\n",
              "      <td>7.618000e+03</td>\n",
              "      <td>1.500000</td>\n",
              "      <td>0.000000</td>\n",
              "      <td>0.000000</td>\n",
              "      <td>3.000000</td>\n",
              "      <td>7.000000</td>\n",
              "      <td>1560.000000</td>\n",
              "      <td>0.000000</td>\n",
              "      <td>1975.000000</td>\n",
              "      <td>0.000000</td>\n",
              "      <td>98065.000000</td>\n",
              "      <td>47.571800</td>\n",
              "      <td>-122.230000</td>\n",
              "      <td>1840.000000</td>\n",
              "      <td>7620.000000</td>\n",
              "    </tr>\n",
              "    <tr>\n",
              "      <th>75%</th>\n",
              "      <td>6.450000e+05</td>\n",
              "      <td>4.000000</td>\n",
              "      <td>2.500000</td>\n",
              "      <td>2550.000000</td>\n",
              "      <td>1.068800e+04</td>\n",
              "      <td>2.000000</td>\n",
              "      <td>0.000000</td>\n",
              "      <td>0.000000</td>\n",
              "      <td>4.000000</td>\n",
              "      <td>8.000000</td>\n",
              "      <td>2210.000000</td>\n",
              "      <td>560.000000</td>\n",
              "      <td>1997.000000</td>\n",
              "      <td>0.000000</td>\n",
              "      <td>98118.000000</td>\n",
              "      <td>47.678000</td>\n",
              "      <td>-122.125000</td>\n",
              "      <td>2360.000000</td>\n",
              "      <td>10083.000000</td>\n",
              "    </tr>\n",
              "    <tr>\n",
              "      <th>max</th>\n",
              "      <td>7.700000e+06</td>\n",
              "      <td>33.000000</td>\n",
              "      <td>8.000000</td>\n",
              "      <td>13540.000000</td>\n",
              "      <td>1.651359e+06</td>\n",
              "      <td>3.500000</td>\n",
              "      <td>1.000000</td>\n",
              "      <td>4.000000</td>\n",
              "      <td>5.000000</td>\n",
              "      <td>13.000000</td>\n",
              "      <td>9410.000000</td>\n",
              "      <td>4820.000000</td>\n",
              "      <td>2015.000000</td>\n",
              "      <td>2015.000000</td>\n",
              "      <td>98199.000000</td>\n",
              "      <td>47.777600</td>\n",
              "      <td>-121.315000</td>\n",
              "      <td>6210.000000</td>\n",
              "      <td>871200.000000</td>\n",
              "    </tr>\n",
              "  </tbody>\n",
              "</table>\n",
              "</div>\n",
              "    <div class=\"colab-df-buttons\">\n",
              "\n",
              "  <div class=\"colab-df-container\">\n",
              "    <button class=\"colab-df-convert\" onclick=\"convertToInteractive('df-65d87809-8c60-4a31-b481-6f01d06e0077')\"\n",
              "            title=\"Convert this dataframe to an interactive table.\"\n",
              "            style=\"display:none;\">\n",
              "\n",
              "  <svg xmlns=\"http://www.w3.org/2000/svg\" height=\"24px\" viewBox=\"0 -960 960 960\">\n",
              "    <path d=\"M120-120v-720h720v720H120Zm60-500h600v-160H180v160Zm220 220h160v-160H400v160Zm0 220h160v-160H400v160ZM180-400h160v-160H180v160Zm440 0h160v-160H620v160ZM180-180h160v-160H180v160Zm440 0h160v-160H620v160Z\"/>\n",
              "  </svg>\n",
              "    </button>\n",
              "\n",
              "  <style>\n",
              "    .colab-df-container {\n",
              "      display:flex;\n",
              "      gap: 12px;\n",
              "    }\n",
              "\n",
              "    .colab-df-convert {\n",
              "      background-color: #E8F0FE;\n",
              "      border: none;\n",
              "      border-radius: 50%;\n",
              "      cursor: pointer;\n",
              "      display: none;\n",
              "      fill: #1967D2;\n",
              "      height: 32px;\n",
              "      padding: 0 0 0 0;\n",
              "      width: 32px;\n",
              "    }\n",
              "\n",
              "    .colab-df-convert:hover {\n",
              "      background-color: #E2EBFA;\n",
              "      box-shadow: 0px 1px 2px rgba(60, 64, 67, 0.3), 0px 1px 3px 1px rgba(60, 64, 67, 0.15);\n",
              "      fill: #174EA6;\n",
              "    }\n",
              "\n",
              "    .colab-df-buttons div {\n",
              "      margin-bottom: 4px;\n",
              "    }\n",
              "\n",
              "    [theme=dark] .colab-df-convert {\n",
              "      background-color: #3B4455;\n",
              "      fill: #D2E3FC;\n",
              "    }\n",
              "\n",
              "    [theme=dark] .colab-df-convert:hover {\n",
              "      background-color: #434B5C;\n",
              "      box-shadow: 0px 1px 3px 1px rgba(0, 0, 0, 0.15);\n",
              "      filter: drop-shadow(0px 1px 2px rgba(0, 0, 0, 0.3));\n",
              "      fill: #FFFFFF;\n",
              "    }\n",
              "  </style>\n",
              "\n",
              "    <script>\n",
              "      const buttonEl =\n",
              "        document.querySelector('#df-65d87809-8c60-4a31-b481-6f01d06e0077 button.colab-df-convert');\n",
              "      buttonEl.style.display =\n",
              "        google.colab.kernel.accessAllowed ? 'block' : 'none';\n",
              "\n",
              "      async function convertToInteractive(key) {\n",
              "        const element = document.querySelector('#df-65d87809-8c60-4a31-b481-6f01d06e0077');\n",
              "        const dataTable =\n",
              "          await google.colab.kernel.invokeFunction('convertToInteractive',\n",
              "                                                    [key], {});\n",
              "        if (!dataTable) return;\n",
              "\n",
              "        const docLinkHtml = 'Like what you see? Visit the ' +\n",
              "          '<a target=\"_blank\" href=https://colab.research.google.com/notebooks/data_table.ipynb>data table notebook</a>'\n",
              "          + ' to learn more about interactive tables.';\n",
              "        element.innerHTML = '';\n",
              "        dataTable['output_type'] = 'display_data';\n",
              "        await google.colab.output.renderOutput(dataTable, element);\n",
              "        const docLink = document.createElement('div');\n",
              "        docLink.innerHTML = docLinkHtml;\n",
              "        element.appendChild(docLink);\n",
              "      }\n",
              "    </script>\n",
              "  </div>\n",
              "\n",
              "\n",
              "<div id=\"df-e156d972-39d4-49d8-9505-93738b19fe2e\">\n",
              "  <button class=\"colab-df-quickchart\" onclick=\"quickchart('df-e156d972-39d4-49d8-9505-93738b19fe2e')\"\n",
              "            title=\"Suggest charts\"\n",
              "            style=\"display:none;\">\n",
              "\n",
              "<svg xmlns=\"http://www.w3.org/2000/svg\" height=\"24px\"viewBox=\"0 0 24 24\"\n",
              "     width=\"24px\">\n",
              "    <g>\n",
              "        <path d=\"M19 3H5c-1.1 0-2 .9-2 2v14c0 1.1.9 2 2 2h14c1.1 0 2-.9 2-2V5c0-1.1-.9-2-2-2zM9 17H7v-7h2v7zm4 0h-2V7h2v10zm4 0h-2v-4h2v4z\"/>\n",
              "    </g>\n",
              "</svg>\n",
              "  </button>\n",
              "\n",
              "<style>\n",
              "  .colab-df-quickchart {\n",
              "      --bg-color: #E8F0FE;\n",
              "      --fill-color: #1967D2;\n",
              "      --hover-bg-color: #E2EBFA;\n",
              "      --hover-fill-color: #174EA6;\n",
              "      --disabled-fill-color: #AAA;\n",
              "      --disabled-bg-color: #DDD;\n",
              "  }\n",
              "\n",
              "  [theme=dark] .colab-df-quickchart {\n",
              "      --bg-color: #3B4455;\n",
              "      --fill-color: #D2E3FC;\n",
              "      --hover-bg-color: #434B5C;\n",
              "      --hover-fill-color: #FFFFFF;\n",
              "      --disabled-bg-color: #3B4455;\n",
              "      --disabled-fill-color: #666;\n",
              "  }\n",
              "\n",
              "  .colab-df-quickchart {\n",
              "    background-color: var(--bg-color);\n",
              "    border: none;\n",
              "    border-radius: 50%;\n",
              "    cursor: pointer;\n",
              "    display: none;\n",
              "    fill: var(--fill-color);\n",
              "    height: 32px;\n",
              "    padding: 0;\n",
              "    width: 32px;\n",
              "  }\n",
              "\n",
              "  .colab-df-quickchart:hover {\n",
              "    background-color: var(--hover-bg-color);\n",
              "    box-shadow: 0 1px 2px rgba(60, 64, 67, 0.3), 0 1px 3px 1px rgba(60, 64, 67, 0.15);\n",
              "    fill: var(--button-hover-fill-color);\n",
              "  }\n",
              "\n",
              "  .colab-df-quickchart-complete:disabled,\n",
              "  .colab-df-quickchart-complete:disabled:hover {\n",
              "    background-color: var(--disabled-bg-color);\n",
              "    fill: var(--disabled-fill-color);\n",
              "    box-shadow: none;\n",
              "  }\n",
              "\n",
              "  .colab-df-spinner {\n",
              "    border: 2px solid var(--fill-color);\n",
              "    border-color: transparent;\n",
              "    border-bottom-color: var(--fill-color);\n",
              "    animation:\n",
              "      spin 1s steps(1) infinite;\n",
              "  }\n",
              "\n",
              "  @keyframes spin {\n",
              "    0% {\n",
              "      border-color: transparent;\n",
              "      border-bottom-color: var(--fill-color);\n",
              "      border-left-color: var(--fill-color);\n",
              "    }\n",
              "    20% {\n",
              "      border-color: transparent;\n",
              "      border-left-color: var(--fill-color);\n",
              "      border-top-color: var(--fill-color);\n",
              "    }\n",
              "    30% {\n",
              "      border-color: transparent;\n",
              "      border-left-color: var(--fill-color);\n",
              "      border-top-color: var(--fill-color);\n",
              "      border-right-color: var(--fill-color);\n",
              "    }\n",
              "    40% {\n",
              "      border-color: transparent;\n",
              "      border-right-color: var(--fill-color);\n",
              "      border-top-color: var(--fill-color);\n",
              "    }\n",
              "    60% {\n",
              "      border-color: transparent;\n",
              "      border-right-color: var(--fill-color);\n",
              "    }\n",
              "    80% {\n",
              "      border-color: transparent;\n",
              "      border-right-color: var(--fill-color);\n",
              "      border-bottom-color: var(--fill-color);\n",
              "    }\n",
              "    90% {\n",
              "      border-color: transparent;\n",
              "      border-bottom-color: var(--fill-color);\n",
              "    }\n",
              "  }\n",
              "</style>\n",
              "\n",
              "  <script>\n",
              "    async function quickchart(key) {\n",
              "      const quickchartButtonEl =\n",
              "        document.querySelector('#' + key + ' button');\n",
              "      quickchartButtonEl.disabled = true;  // To prevent multiple clicks.\n",
              "      quickchartButtonEl.classList.add('colab-df-spinner');\n",
              "      try {\n",
              "        const charts = await google.colab.kernel.invokeFunction(\n",
              "            'suggestCharts', [key], {});\n",
              "      } catch (error) {\n",
              "        console.error('Error during call to suggestCharts:', error);\n",
              "      }\n",
              "      quickchartButtonEl.classList.remove('colab-df-spinner');\n",
              "      quickchartButtonEl.classList.add('colab-df-quickchart-complete');\n",
              "    }\n",
              "    (() => {\n",
              "      let quickchartButtonEl =\n",
              "        document.querySelector('#df-e156d972-39d4-49d8-9505-93738b19fe2e button');\n",
              "      quickchartButtonEl.style.display =\n",
              "        google.colab.kernel.accessAllowed ? 'block' : 'none';\n",
              "    })();\n",
              "  </script>\n",
              "</div>\n",
              "\n",
              "    </div>\n",
              "  </div>\n"
            ],
            "application/vnd.google.colaboratory.intrinsic+json": {
              "type": "dataframe",
              "summary": "{\n  \"name\": \"df\",\n  \"rows\": 8,\n  \"fields\": [\n    {\n      \"column\": \"price\",\n      \"properties\": {\n        \"dtype\": \"number\",\n        \"std\": 2608803.1528446754,\n        \"min\": 21613.0,\n        \"max\": 7700000.0,\n        \"num_unique_values\": 8,\n        \"samples\": [\n          540088.1417665294,\n          450000.0,\n          21613.0\n        ],\n        \"semantic_type\": \"\",\n        \"description\": \"\"\n      }\n    },\n    {\n      \"column\": \"bedrooms\",\n      \"properties\": {\n        \"dtype\": \"number\",\n        \"std\": 7634.321255107158,\n        \"min\": 0.9266566928336047,\n        \"max\": 21600.0,\n        \"num_unique_values\": 7,\n        \"samples\": [\n          21600.0,\n          3.37287037037037,\n          4.0\n        ],\n        \"semantic_type\": \"\",\n        \"description\": \"\"\n      }\n    },\n    {\n      \"column\": \"bathrooms\",\n      \"properties\": {\n        \"dtype\": \"number\",\n        \"std\": 7636.910937001178,\n        \"min\": 0.5,\n        \"max\": 21603.0,\n        \"num_unique_values\": 8,\n        \"samples\": [\n          2.1157362403369904,\n          2.25,\n          21603.0\n        ],\n        \"semantic_type\": \"\",\n        \"description\": \"\"\n      }\n    },\n    {\n      \"column\": \"sqft_living\",\n      \"properties\": {\n        \"dtype\": \"number\",\n        \"std\": 7766.85900551995,\n        \"min\": 290.0,\n        \"max\": 21613.0,\n        \"num_unique_values\": 8,\n        \"samples\": [\n          2079.8997362698374,\n          1910.0,\n          21613.0\n        ],\n        \"semantic_type\": \"\",\n        \"description\": \"\"\n      }\n    },\n    {\n      \"column\": \"sqft_lot\",\n      \"properties\": {\n        \"dtype\": \"number\",\n        \"std\": 578829.9990074945,\n        \"min\": 520.0,\n        \"max\": 1651359.0,\n        \"num_unique_values\": 8,\n        \"samples\": [\n          15106.967565816869,\n          7618.0,\n          21613.0\n        ],\n        \"semantic_type\": \"\",\n        \"description\": \"\"\n      }\n    },\n    {\n      \"column\": \"floors\",\n      \"properties\": {\n        \"dtype\": \"number\",\n        \"std\": 7640.792167327785,\n        \"min\": 0.5399888951423824,\n        \"max\": 21613.0,\n        \"num_unique_values\": 7,\n        \"samples\": [\n          21613.0,\n          1.4943089807060566,\n          2.0\n        ],\n        \"semantic_type\": \"\",\n        \"description\": \"\"\n      }\n    },\n    {\n      \"column\": \"waterfront\",\n      \"properties\": {\n        \"dtype\": \"number\",\n        \"std\": 7641.294180390358,\n        \"min\": 0.0,\n        \"max\": 21613.0,\n        \"num_unique_values\": 5,\n        \"samples\": [\n          0.007541757275713691,\n          1.0,\n          0.0865171977279032\n        ],\n        \"semantic_type\": \"\",\n        \"description\": \"\"\n      }\n    },\n    {\n      \"column\": \"view\",\n      \"properties\": {\n        \"dtype\": \"number\",\n        \"std\": 7641.0969835671995,\n        \"min\": 0.0,\n        \"max\": 21613.0,\n        \"num_unique_values\": 5,\n        \"samples\": [\n          0.23430342849211122,\n          4.0,\n          0.7663175692736397\n        ],\n        \"semantic_type\": \"\",\n        \"description\": \"\"\n      }\n    },\n    {\n      \"column\": \"condition\",\n      \"properties\": {\n        \"dtype\": \"number\",\n        \"std\": 7640.336375298777,\n        \"min\": 0.6507430463662665,\n        \"max\": 21613.0,\n        \"num_unique_values\": 7,\n        \"samples\": [\n          21613.0,\n          3.4094295100171195,\n          4.0\n        ],\n        \"semantic_type\": \"\",\n        \"description\": \"\"\n      }\n    },\n    {\n      \"column\": \"grade\",\n      \"properties\": {\n        \"dtype\": \"number\",\n        \"std\": 7639.086036811259,\n        \"min\": 1.0,\n        \"max\": 21613.0,\n        \"num_unique_values\": 7,\n        \"samples\": [\n          21613.0,\n          7.656873178179799,\n          8.0\n        ],\n        \"semantic_type\": \"\",\n        \"description\": \"\"\n      }\n    },\n    {\n      \"column\": \"sqft_above\",\n      \"properties\": {\n        \"dtype\": \"number\",\n        \"std\": 7361.316573579324,\n        \"min\": 290.0,\n        \"max\": 21613.0,\n        \"num_unique_values\": 8,\n        \"samples\": [\n          1788.3906907879516,\n          1560.0,\n          21613.0\n        ],\n        \"semantic_type\": \"\",\n        \"description\": \"\"\n      }\n    },\n    {\n      \"column\": \"sqft_basement\",\n      \"properties\": {\n        \"dtype\": \"number\",\n        \"std\": 7510.46622281216,\n        \"min\": 0.0,\n        \"max\": 21613.0,\n        \"num_unique_values\": 6,\n        \"samples\": [\n          21613.0,\n          291.5090454818859,\n          4820.0\n        ],\n        \"semantic_type\": \"\",\n        \"description\": \"\"\n      }\n    },\n    {\n      \"column\": \"yr_built\",\n      \"properties\": {\n        \"dtype\": \"number\",\n        \"std\": 7076.100744347737,\n        \"min\": 29.373410802390172,\n        \"max\": 21613.0,\n        \"num_unique_values\": 8,\n        \"samples\": [\n          1971.0051357978994,\n          1975.0,\n          21613.0\n        ],\n        \"semantic_type\": \"\",\n        \"description\": \"\"\n      }\n    },\n    {\n      \"column\": \"yr_renovated\",\n      \"properties\": {\n        \"dtype\": \"number\",\n        \"std\": 7546.6581832335705,\n        \"min\": 0.0,\n        \"max\": 21613.0,\n        \"num_unique_values\": 5,\n        \"samples\": [\n          84.40225790033776,\n          2015.0,\n          401.6792400190783\n        ],\n        \"semantic_type\": \"\",\n        \"description\": \"\"\n      }\n    },\n    {\n      \"column\": \"zipcode\",\n      \"properties\": {\n        \"dtype\": \"number\",\n        \"std\": 40797.46261995304,\n        \"min\": 53.505026257473695,\n        \"max\": 98199.0,\n        \"num_unique_values\": 8,\n        \"samples\": [\n          98077.93980474715,\n          98065.0,\n          21613.0\n        ],\n        \"semantic_type\": \"\",\n        \"description\": \"\"\n      }\n    },\n    {\n      \"column\": \"lat\",\n      \"properties\": {\n        \"dtype\": \"number\",\n        \"std\": 7626.954967781562,\n        \"min\": 0.13856371024192463,\n        \"max\": 21613.0,\n        \"num_unique_values\": 8,\n        \"samples\": [\n          47.56005251931708,\n          47.5718,\n          21613.0\n        ],\n        \"semantic_type\": \"\",\n        \"description\": \"\"\n      }\n    },\n    {\n      \"column\": \"long\",\n      \"properties\": {\n        \"dtype\": \"number\",\n        \"std\": 7678.470015507025,\n        \"min\": -122.519,\n        \"max\": 21613.0,\n        \"num_unique_values\": 8,\n        \"samples\": [\n          -122.21389640494147,\n          -122.23,\n          21613.0\n        ],\n        \"semantic_type\": \"\",\n        \"description\": \"\"\n      }\n    },\n    {\n      \"column\": \"sqft_living15\",\n      \"properties\": {\n        \"dtype\": \"number\",\n        \"std\": 7112.749157923505,\n        \"min\": 399.0,\n        \"max\": 21613.0,\n        \"num_unique_values\": 8,\n        \"samples\": [\n          1986.552491556008,\n          1840.0,\n          21613.0\n        ],\n        \"semantic_type\": \"\",\n        \"description\": \"\"\n      }\n    },\n    {\n      \"column\": \"sqft_lot15\",\n      \"properties\": {\n        \"dtype\": \"number\",\n        \"std\": 303839.26467140246,\n        \"min\": 651.0,\n        \"max\": 871200.0,\n        \"num_unique_values\": 8,\n        \"samples\": [\n          12768.455651691113,\n          7620.0,\n          21613.0\n        ],\n        \"semantic_type\": \"\",\n        \"description\": \"\"\n      }\n    }\n  ]\n}"
            }
          },
          "metadata": {},
          "execution_count": 30
        }
      ],
      "execution_count": 30
    },
    {
      "cell_type": "markdown",
      "source": [
        "We can see we have missing values for the columns <code> bedrooms</code>  and <code> bathrooms </code>\n"
      ],
      "metadata": {
        "id": "GJGjIugh5YEa"
      }
    },
    {
      "cell_type": "code",
      "source": [
        "print(\"number of NaN values for the column bedrooms :\", df['bedrooms'].isnull().sum())\n",
        "print(\"number of NaN values for the column bathrooms :\", df['bathrooms'].isnull().sum())\n"
      ],
      "metadata": {
        "trusted": true,
        "colab": {
          "base_uri": "https://localhost:8080/"
        },
        "id": "DrMTMaCj5YEa",
        "outputId": "e97db39a-7e00-4495-b854-727f10213d39"
      },
      "outputs": [
        {
          "output_type": "stream",
          "name": "stdout",
          "text": [
            "number of NaN values for the column bedrooms : 13\n",
            "number of NaN values for the column bathrooms : 10\n"
          ]
        }
      ],
      "execution_count": 31
    },
    {
      "cell_type": "markdown",
      "source": [
        "We can replace the missing values of the column <code>'bedrooms'</code> with the mean of the column  <code>'bedrooms' </code> using the method <code>replace()</code>. Don't forget to set the <code>inplace</code> parameter to <code>True</code>\n"
      ],
      "metadata": {
        "id": "QV8kt5Nt5YEa"
      }
    },
    {
      "cell_type": "code",
      "source": [
        "mean=df['bedrooms'].mean()\n",
        "df['bedrooms'].replace(np.nan,mean, inplace=True)"
      ],
      "metadata": {
        "trusted": true,
        "id": "s411T5a35YEb"
      },
      "outputs": [],
      "execution_count": 32
    },
    {
      "cell_type": "markdown",
      "source": [
        "We also replace the missing values of the column <code>'bathrooms'</code> with the mean of the column  <code>'bathrooms' </code> using the method <code>replace()</code>. Don't forget to set the <code> inplace </code>  parameter top <code> True </code>\n"
      ],
      "metadata": {
        "id": "Aq2i61pp5YEb"
      }
    },
    {
      "cell_type": "code",
      "source": [
        "mean=df['bathrooms'].mean()\n",
        "df['bathrooms'].replace(np.nan,mean, inplace=True)"
      ],
      "metadata": {
        "trusted": true,
        "id": "kKRuAW_N5YEb"
      },
      "outputs": [],
      "execution_count": 33
    },
    {
      "cell_type": "code",
      "source": [
        "print(\"number of NaN values for the column bedrooms :\", df['bedrooms'].isnull().sum())\n",
        "print(\"number of NaN values for the column bathrooms :\", df['bathrooms'].isnull().sum())"
      ],
      "metadata": {
        "trusted": true,
        "colab": {
          "base_uri": "https://localhost:8080/"
        },
        "id": "JipVaZdp5YEb",
        "outputId": "32d8e9b0-701e-49eb-bb5c-f334f374a5e0"
      },
      "outputs": [
        {
          "output_type": "stream",
          "name": "stdout",
          "text": [
            "number of NaN values for the column bedrooms : 0\n",
            "number of NaN values for the column bathrooms : 0\n"
          ]
        }
      ],
      "execution_count": 34
    },
    {
      "cell_type": "markdown",
      "source": [
        "# Module 3: Exploratory Data Analysis\n"
      ],
      "metadata": {
        "id": "bIFqQ7iv5YEb"
      }
    },
    {
      "cell_type": "markdown",
      "source": [
        "### Question 3\n",
        "\n",
        "Use the method <code>value_counts</code> to count the number of houses with unique floor values, use the method <code>.to_frame()</code> to convert it to a data frame. Take a screenshot of your code and output. You will need to submit the screenshot for the final project.\n"
      ],
      "metadata": {
        "id": "Kz4F2vBe5YEb"
      }
    },
    {
      "cell_type": "code",
      "source": [
        "#Enter Your Code, Execute and take the Screenshot\n",
        "floor_counts = df['floors'].value_counts()\n",
        "floor_counts_df = floor_counts.to_frame(name=\"Count\")\n",
        "floor_counts_df.head()"
      ],
      "metadata": {
        "trusted": true,
        "colab": {
          "base_uri": "https://localhost:8080/",
          "height": 238
        },
        "id": "ucu2m2Dx5YEf",
        "outputId": "d98ca7ae-6d50-478b-9ca8-99ab75ffa2c3"
      },
      "outputs": [
        {
          "output_type": "execute_result",
          "data": {
            "text/plain": [
              "        Count\n",
              "floors       \n",
              "1.0     10680\n",
              "2.0      8241\n",
              "1.5      1910\n",
              "3.0       613\n",
              "2.5       161"
            ],
            "text/html": [
              "\n",
              "  <div id=\"df-90b9d04f-98e8-473a-a550-5634432238bd\" class=\"colab-df-container\">\n",
              "    <div>\n",
              "<style scoped>\n",
              "    .dataframe tbody tr th:only-of-type {\n",
              "        vertical-align: middle;\n",
              "    }\n",
              "\n",
              "    .dataframe tbody tr th {\n",
              "        vertical-align: top;\n",
              "    }\n",
              "\n",
              "    .dataframe thead th {\n",
              "        text-align: right;\n",
              "    }\n",
              "</style>\n",
              "<table border=\"1\" class=\"dataframe\">\n",
              "  <thead>\n",
              "    <tr style=\"text-align: right;\">\n",
              "      <th></th>\n",
              "      <th>Count</th>\n",
              "    </tr>\n",
              "    <tr>\n",
              "      <th>floors</th>\n",
              "      <th></th>\n",
              "    </tr>\n",
              "  </thead>\n",
              "  <tbody>\n",
              "    <tr>\n",
              "      <th>1.0</th>\n",
              "      <td>10680</td>\n",
              "    </tr>\n",
              "    <tr>\n",
              "      <th>2.0</th>\n",
              "      <td>8241</td>\n",
              "    </tr>\n",
              "    <tr>\n",
              "      <th>1.5</th>\n",
              "      <td>1910</td>\n",
              "    </tr>\n",
              "    <tr>\n",
              "      <th>3.0</th>\n",
              "      <td>613</td>\n",
              "    </tr>\n",
              "    <tr>\n",
              "      <th>2.5</th>\n",
              "      <td>161</td>\n",
              "    </tr>\n",
              "  </tbody>\n",
              "</table>\n",
              "</div>\n",
              "    <div class=\"colab-df-buttons\">\n",
              "\n",
              "  <div class=\"colab-df-container\">\n",
              "    <button class=\"colab-df-convert\" onclick=\"convertToInteractive('df-90b9d04f-98e8-473a-a550-5634432238bd')\"\n",
              "            title=\"Convert this dataframe to an interactive table.\"\n",
              "            style=\"display:none;\">\n",
              "\n",
              "  <svg xmlns=\"http://www.w3.org/2000/svg\" height=\"24px\" viewBox=\"0 -960 960 960\">\n",
              "    <path d=\"M120-120v-720h720v720H120Zm60-500h600v-160H180v160Zm220 220h160v-160H400v160Zm0 220h160v-160H400v160ZM180-400h160v-160H180v160Zm440 0h160v-160H620v160ZM180-180h160v-160H180v160Zm440 0h160v-160H620v160Z\"/>\n",
              "  </svg>\n",
              "    </button>\n",
              "\n",
              "  <style>\n",
              "    .colab-df-container {\n",
              "      display:flex;\n",
              "      gap: 12px;\n",
              "    }\n",
              "\n",
              "    .colab-df-convert {\n",
              "      background-color: #E8F0FE;\n",
              "      border: none;\n",
              "      border-radius: 50%;\n",
              "      cursor: pointer;\n",
              "      display: none;\n",
              "      fill: #1967D2;\n",
              "      height: 32px;\n",
              "      padding: 0 0 0 0;\n",
              "      width: 32px;\n",
              "    }\n",
              "\n",
              "    .colab-df-convert:hover {\n",
              "      background-color: #E2EBFA;\n",
              "      box-shadow: 0px 1px 2px rgba(60, 64, 67, 0.3), 0px 1px 3px 1px rgba(60, 64, 67, 0.15);\n",
              "      fill: #174EA6;\n",
              "    }\n",
              "\n",
              "    .colab-df-buttons div {\n",
              "      margin-bottom: 4px;\n",
              "    }\n",
              "\n",
              "    [theme=dark] .colab-df-convert {\n",
              "      background-color: #3B4455;\n",
              "      fill: #D2E3FC;\n",
              "    }\n",
              "\n",
              "    [theme=dark] .colab-df-convert:hover {\n",
              "      background-color: #434B5C;\n",
              "      box-shadow: 0px 1px 3px 1px rgba(0, 0, 0, 0.15);\n",
              "      filter: drop-shadow(0px 1px 2px rgba(0, 0, 0, 0.3));\n",
              "      fill: #FFFFFF;\n",
              "    }\n",
              "  </style>\n",
              "\n",
              "    <script>\n",
              "      const buttonEl =\n",
              "        document.querySelector('#df-90b9d04f-98e8-473a-a550-5634432238bd button.colab-df-convert');\n",
              "      buttonEl.style.display =\n",
              "        google.colab.kernel.accessAllowed ? 'block' : 'none';\n",
              "\n",
              "      async function convertToInteractive(key) {\n",
              "        const element = document.querySelector('#df-90b9d04f-98e8-473a-a550-5634432238bd');\n",
              "        const dataTable =\n",
              "          await google.colab.kernel.invokeFunction('convertToInteractive',\n",
              "                                                    [key], {});\n",
              "        if (!dataTable) return;\n",
              "\n",
              "        const docLinkHtml = 'Like what you see? Visit the ' +\n",
              "          '<a target=\"_blank\" href=https://colab.research.google.com/notebooks/data_table.ipynb>data table notebook</a>'\n",
              "          + ' to learn more about interactive tables.';\n",
              "        element.innerHTML = '';\n",
              "        dataTable['output_type'] = 'display_data';\n",
              "        await google.colab.output.renderOutput(dataTable, element);\n",
              "        const docLink = document.createElement('div');\n",
              "        docLink.innerHTML = docLinkHtml;\n",
              "        element.appendChild(docLink);\n",
              "      }\n",
              "    </script>\n",
              "  </div>\n",
              "\n",
              "\n",
              "<div id=\"df-303c8069-527a-4b4d-89b6-368b1a457205\">\n",
              "  <button class=\"colab-df-quickchart\" onclick=\"quickchart('df-303c8069-527a-4b4d-89b6-368b1a457205')\"\n",
              "            title=\"Suggest charts\"\n",
              "            style=\"display:none;\">\n",
              "\n",
              "<svg xmlns=\"http://www.w3.org/2000/svg\" height=\"24px\"viewBox=\"0 0 24 24\"\n",
              "     width=\"24px\">\n",
              "    <g>\n",
              "        <path d=\"M19 3H5c-1.1 0-2 .9-2 2v14c0 1.1.9 2 2 2h14c1.1 0 2-.9 2-2V5c0-1.1-.9-2-2-2zM9 17H7v-7h2v7zm4 0h-2V7h2v10zm4 0h-2v-4h2v4z\"/>\n",
              "    </g>\n",
              "</svg>\n",
              "  </button>\n",
              "\n",
              "<style>\n",
              "  .colab-df-quickchart {\n",
              "      --bg-color: #E8F0FE;\n",
              "      --fill-color: #1967D2;\n",
              "      --hover-bg-color: #E2EBFA;\n",
              "      --hover-fill-color: #174EA6;\n",
              "      --disabled-fill-color: #AAA;\n",
              "      --disabled-bg-color: #DDD;\n",
              "  }\n",
              "\n",
              "  [theme=dark] .colab-df-quickchart {\n",
              "      --bg-color: #3B4455;\n",
              "      --fill-color: #D2E3FC;\n",
              "      --hover-bg-color: #434B5C;\n",
              "      --hover-fill-color: #FFFFFF;\n",
              "      --disabled-bg-color: #3B4455;\n",
              "      --disabled-fill-color: #666;\n",
              "  }\n",
              "\n",
              "  .colab-df-quickchart {\n",
              "    background-color: var(--bg-color);\n",
              "    border: none;\n",
              "    border-radius: 50%;\n",
              "    cursor: pointer;\n",
              "    display: none;\n",
              "    fill: var(--fill-color);\n",
              "    height: 32px;\n",
              "    padding: 0;\n",
              "    width: 32px;\n",
              "  }\n",
              "\n",
              "  .colab-df-quickchart:hover {\n",
              "    background-color: var(--hover-bg-color);\n",
              "    box-shadow: 0 1px 2px rgba(60, 64, 67, 0.3), 0 1px 3px 1px rgba(60, 64, 67, 0.15);\n",
              "    fill: var(--button-hover-fill-color);\n",
              "  }\n",
              "\n",
              "  .colab-df-quickchart-complete:disabled,\n",
              "  .colab-df-quickchart-complete:disabled:hover {\n",
              "    background-color: var(--disabled-bg-color);\n",
              "    fill: var(--disabled-fill-color);\n",
              "    box-shadow: none;\n",
              "  }\n",
              "\n",
              "  .colab-df-spinner {\n",
              "    border: 2px solid var(--fill-color);\n",
              "    border-color: transparent;\n",
              "    border-bottom-color: var(--fill-color);\n",
              "    animation:\n",
              "      spin 1s steps(1) infinite;\n",
              "  }\n",
              "\n",
              "  @keyframes spin {\n",
              "    0% {\n",
              "      border-color: transparent;\n",
              "      border-bottom-color: var(--fill-color);\n",
              "      border-left-color: var(--fill-color);\n",
              "    }\n",
              "    20% {\n",
              "      border-color: transparent;\n",
              "      border-left-color: var(--fill-color);\n",
              "      border-top-color: var(--fill-color);\n",
              "    }\n",
              "    30% {\n",
              "      border-color: transparent;\n",
              "      border-left-color: var(--fill-color);\n",
              "      border-top-color: var(--fill-color);\n",
              "      border-right-color: var(--fill-color);\n",
              "    }\n",
              "    40% {\n",
              "      border-color: transparent;\n",
              "      border-right-color: var(--fill-color);\n",
              "      border-top-color: var(--fill-color);\n",
              "    }\n",
              "    60% {\n",
              "      border-color: transparent;\n",
              "      border-right-color: var(--fill-color);\n",
              "    }\n",
              "    80% {\n",
              "      border-color: transparent;\n",
              "      border-right-color: var(--fill-color);\n",
              "      border-bottom-color: var(--fill-color);\n",
              "    }\n",
              "    90% {\n",
              "      border-color: transparent;\n",
              "      border-bottom-color: var(--fill-color);\n",
              "    }\n",
              "  }\n",
              "</style>\n",
              "\n",
              "  <script>\n",
              "    async function quickchart(key) {\n",
              "      const quickchartButtonEl =\n",
              "        document.querySelector('#' + key + ' button');\n",
              "      quickchartButtonEl.disabled = true;  // To prevent multiple clicks.\n",
              "      quickchartButtonEl.classList.add('colab-df-spinner');\n",
              "      try {\n",
              "        const charts = await google.colab.kernel.invokeFunction(\n",
              "            'suggestCharts', [key], {});\n",
              "      } catch (error) {\n",
              "        console.error('Error during call to suggestCharts:', error);\n",
              "      }\n",
              "      quickchartButtonEl.classList.remove('colab-df-spinner');\n",
              "      quickchartButtonEl.classList.add('colab-df-quickchart-complete');\n",
              "    }\n",
              "    (() => {\n",
              "      let quickchartButtonEl =\n",
              "        document.querySelector('#df-303c8069-527a-4b4d-89b6-368b1a457205 button');\n",
              "      quickchartButtonEl.style.display =\n",
              "        google.colab.kernel.accessAllowed ? 'block' : 'none';\n",
              "    })();\n",
              "  </script>\n",
              "</div>\n",
              "\n",
              "    </div>\n",
              "  </div>\n"
            ],
            "application/vnd.google.colaboratory.intrinsic+json": {
              "type": "dataframe",
              "variable_name": "floor_counts_df",
              "summary": "{\n  \"name\": \"floor_counts_df\",\n  \"rows\": 6,\n  \"fields\": [\n    {\n      \"column\": \"floors\",\n      \"properties\": {\n        \"dtype\": \"number\",\n        \"std\": 0.9354143466934853,\n        \"min\": 1.0,\n        \"max\": 3.5,\n        \"num_unique_values\": 6,\n        \"samples\": [\n          1.0,\n          2.0,\n          3.5\n        ],\n        \"semantic_type\": \"\",\n        \"description\": \"\"\n      }\n    },\n    {\n      \"column\": \"Count\",\n      \"properties\": {\n        \"dtype\": \"number\",\n        \"std\": 4651,\n        \"min\": 8,\n        \"max\": 10680,\n        \"num_unique_values\": 6,\n        \"samples\": [\n          10680,\n          8241,\n          8\n        ],\n        \"semantic_type\": \"\",\n        \"description\": \"\"\n      }\n    }\n  ]\n}"
            }
          },
          "metadata": {},
          "execution_count": 35
        }
      ],
      "execution_count": 35
    },
    {
      "cell_type": "markdown",
      "source": [
        "### Question 4\n",
        "\n",
        "Use the function <code>boxplot</code> in the seaborn library  to  determine whether houses with a waterfront view or without a waterfront view have more price outliers. Take a screenshot of your code and boxplot. You will need to submit the screenshot for the final project.\n"
      ],
      "metadata": {
        "id": "1pB24ZeN5YEf"
      }
    },
    {
      "cell_type": "code",
      "source": [
        "# prompt: Use the function boxplot in the seaborn library to determine whether houses with a waterfront view or without a waterfront view have more price outliers.\n",
        "\n",
        "sns.boxplot(x=\"waterfront\", y=\"price\", data=df)"
      ],
      "metadata": {
        "trusted": true,
        "colab": {
          "base_uri": "https://localhost:8080/",
          "height": 482
        },
        "id": "DC7DaOOK5YEf",
        "outputId": "9e2ee69d-e22e-40e0-b6cb-1a55d8b3bbd4"
      },
      "outputs": [
        {
          "output_type": "execute_result",
          "data": {
            "text/plain": [
              "<Axes: xlabel='waterfront', ylabel='price'>"
            ]
          },
          "metadata": {},
          "execution_count": 36
        },
        {
          "output_type": "display_data",
          "data": {
            "text/plain": [
              "<Figure size 640x480 with 1 Axes>"
            ],
            "image/png": "[encoded data removed]"
          },
          "metadata": {}
        }
      ],
      "execution_count": 36
    },
    {
      "cell_type": "markdown",
      "source": [
        "### Question 5\n",
        "\n",
        "Use the function <code>regplot</code>  in the seaborn library  to  determine if the feature <code>sqft_above</code> is negatively or positively correlated with price. Take a screenshot of your code and scatterplot. You will need to submit the screenshot for the final project.\n"
      ],
      "metadata": {
        "id": "I6N24riC5YEf"
      }
    },
    {
      "cell_type": "code",
      "source": [
        "# prompt: Use the function regplot in the seaborn library to determine if the feature sqft_above is negatively or positively correlated with price.\n",
        "\n",
        "sns.regplot(x=\"sqft_above\", y=\"price\", data=df)"
      ],
      "metadata": {
        "trusted": true,
        "colab": {
          "base_uri": "https://localhost:8080/",
          "height": 482
        },
        "id": "66VpAFMi5YEf",
        "outputId": "f20f9527-fd92-4ab2-9d82-3266ea77c30e"
      },
      "outputs": [
        {
          "output_type": "execute_result",
          "data": {
            "text/plain": [
              "<Axes: xlabel='sqft_above', ylabel='price'>"
            ]
          },
          "metadata": {},
          "execution_count": 38
        },
        {
          "output_type": "display_data",
          "data": {
            "text/plain": [
              "<Figure size 640x480 with 1 Axes>"
            ],
            "image/png": "[encoded data removed]"
          },
          "metadata": {}
        }
      ],
      "execution_count": 38
    },
    {
      "cell_type": "markdown",
      "source": [
        "We can use the Pandas method <code>corr()</code>  to find the feature other than price that is most correlated with price.\n"
      ],
      "metadata": {
        "id": "l4PSIQuY5YEf"
      }
    },
    {
      "cell_type": "markdown",
      "source": [
        "# Module 4: Model Development\n"
      ],
      "metadata": {
        "id": "O9bBGFfl5YEg"
      }
    },
    {
      "cell_type": "markdown",
      "source": [
        "We can Fit a linear regression model using the  longitude feature <code>'long'</code> and  caculate the R^2.\n"
      ],
      "metadata": {
        "id": "Tl67uulA5YEg"
      }
    },
    {
      "cell_type": "code",
      "source": [
        "X = df[['long']]\n",
        "Y = df['price']\n",
        "lm = LinearRegression()\n",
        "lm.fit(X,Y)\n",
        "lm.score(X, Y)"
      ],
      "metadata": {
        "trusted": true,
        "colab": {
          "base_uri": "https://localhost:8080/"
        },
        "id": "LKkR1GzX5YEg",
        "outputId": "65ff8c73-e966-4ef8-b877-6ef4d0d4cfc4"
      },
      "outputs": [
        {
          "output_type": "execute_result",
          "data": {
            "text/plain": [
              "0.00046769430149007363"
            ]
          },
          "metadata": {},
          "execution_count": 40
        }
      ],
      "execution_count": 40
    },
    {
      "cell_type": "markdown",
      "source": [
        "### Question  6\n",
        "\n",
        "Fit a linear regression model to predict the <code>'price'</code> using the feature <code>'sqft_living'</code> then calculate the R^2. Take a screenshot of your code and the value of the R^2. You will need to submit it for the final project.\n"
      ],
      "metadata": {
        "id": "gnNHD07W5YEg"
      }
    },
    {
      "cell_type": "code",
      "source": [
        "#Enter Your Code, Execute and take the Screenshot\n",
        "yhat = lm.predict(X)\n",
        "r2_score(Y,yhat)"
      ],
      "metadata": {
        "trusted": true,
        "colab": {
          "base_uri": "https://localhost:8080/"
        },
        "id": "QtNSouua5YEg",
        "outputId": "b27c5f1e-51a8-43ff-9aeb-9f3f73875233"
      },
      "outputs": [
        {
          "output_type": "execute_result",
          "data": {
            "text/plain": [
              "0.00046769430149007363"
            ]
          },
          "metadata": {},
          "execution_count": 43
        }
      ],
      "execution_count": 43
    },
    {
      "cell_type": "markdown",
      "source": [
        "### Question 7\n",
        "\n",
        "Fit a linear regression model to predict the <code>'price'</code> using the list of features:\n"
      ],
      "metadata": {
        "id": "RWYUkF5g5YEg"
      }
    },
    {
      "cell_type": "code",
      "source": [
        "features =[\"floors\", \"waterfront\",\"lat\" ,\"bedrooms\" ,\"sqft_basement\" ,\"view\" ,\"bathrooms\",\"sqft_living15\",\"sqft_above\",\"grade\",\"sqft_living\"]"
      ],
      "metadata": {
        "trusted": true,
        "id": "oJR7Wf5L5YEg"
      },
      "outputs": [],
      "execution_count": 44
    },
    {
      "cell_type": "markdown",
      "source": [
        "Then calculate the R^2. Take a screenshot of your code and the value of the R^2. You will need to submit it for the final project.\n"
      ],
      "metadata": {
        "id": "LmK2gjwe5YEh"
      }
    },
    {
      "cell_type": "code",
      "source": [
        "\n",
        "X = df[features]\n",
        "Y = df['price']\n",
        "lm = LinearRegression()\n",
        "lm.fit(X, Y)\n",
        "print('The R-square is: ', lm.score(X, Y))"
      ],
      "metadata": {
        "trusted": true,
        "colab": {
          "base_uri": "https://localhost:8080/"
        },
        "id": "3Lh9n1lZ5YEh",
        "outputId": "ae345430-a928-47c3-e107-6c7651343c2a"
      },
      "outputs": [
        {
          "output_type": "stream",
          "name": "stdout",
          "text": [
            "The R-square is:  0.6576861682430691\n"
          ]
        }
      ],
      "execution_count": 45
    },
    {
      "cell_type": "markdown",
      "source": [
        "### This will help with Question 8\n",
        "\n",
        "Create a list of tuples, the first element in the tuple contains the name of the estimator:\n",
        "\n",
        "<code>'scale'</code>\n",
        "\n",
        "<code>'polynomial'</code>\n",
        "\n",
        "<code>'model'</code>\n",
        "\n",
        "The second element in the tuple  contains the model constructor\n",
        "\n",
        "<code>StandardScaler()</code>\n",
        "\n",
        "<code>PolynomialFeatures(include_bias=False)</code>\n",
        "\n",
        "<code>LinearRegression()</code>\n"
      ],
      "metadata": {
        "id": "eZ-KfNH45YEh"
      }
    },
    {
      "cell_type": "code",
      "source": [
        "Input=[('scale',StandardScaler()),('polynomial', PolynomialFeatures(include_bias=False)),('model',LinearRegression())]"
      ],
      "metadata": {
        "trusted": true,
        "id": "qb-Yfjw85YEh"
      },
      "outputs": [],
      "execution_count": 46
    },
    {
      "cell_type": "markdown",
      "source": [
        "### Question 8\n",
        "\n",
        "Use the list to create a pipeline object to predict the 'price', fit the object using the features in the list <code>features</code>, and calculate the R^2. Take a screenshot of your code and the value of the R^2. You will need to submit it for the final project.\n"
      ],
      "metadata": {
        "id": "Q7uWSJio5YEh"
      }
    },
    {
      "cell_type": "code",
      "source": [
        "\n",
        "pipe = Pipeline(Input)\n",
        "pipe.fit(df[features], df['price'])\n",
        "yhat = pipe.predict(df[features])\n",
        "print('The R-square is: ', r2_score(df['price'],yhat))"
      ],
      "metadata": {
        "trusted": true,
        "colab": {
          "base_uri": "https://localhost:8080/"
        },
        "id": "8xObazj65YEh",
        "outputId": "61d90a56-99e6-418a-f99a-119ad4b3b0a0"
      },
      "outputs": [
        {
          "output_type": "stream",
          "name": "stdout",
          "text": [
            "The R-square is:  0.7513388843959332\n"
          ]
        }
      ],
      "execution_count": 55
    },
    {
      "cell_type": "markdown",
      "source": [
        "# Module 5: Model Evaluation and Refinement\n"
      ],
      "metadata": {
        "id": "dszZZRbi5YEi"
      }
    },
    {
      "cell_type": "markdown",
      "source": [
        "Import the necessary modules:\n"
      ],
      "metadata": {
        "id": "qQLqgs4Y5YEi"
      }
    },
    {
      "cell_type": "code",
      "source": [
        "from sklearn.model_selection import cross_val_score\n",
        "from sklearn.model_selection import train_test_split\n",
        "print(\"done\")"
      ],
      "metadata": {
        "trusted": true,
        "colab": {
          "base_uri": "https://localhost:8080/"
        },
        "id": "FqvxeH7f5YEj",
        "outputId": "f415dd95-73cf-43f1-c82f-175c929e72fb"
      },
      "outputs": [
        {
          "output_type": "stream",
          "name": "stdout",
          "text": [
            "done\n"
          ]
        }
      ],
      "execution_count": 48
    },
    {
      "cell_type": "markdown",
      "source": [
        "We will split the data into training and testing sets:\n"
      ],
      "metadata": {
        "id": "G-QiR9PR5YEj"
      }
    },
    {
      "cell_type": "code",
      "source": [
        "features =[\"floors\", \"waterfront\",\"lat\" ,\"bedrooms\" ,\"sqft_basement\" ,\"view\" ,\"bathrooms\",\"sqft_living15\",\"sqft_above\",\"grade\",\"sqft_living\"]\n",
        "X = df[features]\n",
        "Y = df['price']\n",
        "\n",
        "x_train, x_test, y_train, y_test = train_test_split(X, Y, test_size=0.15, random_state=1)\n",
        "\n",
        "\n",
        "print(\"number of test samples:\", x_test.shape[0])\n",
        "print(\"number of training samples:\",x_train.shape[0])"
      ],
      "metadata": {
        "trusted": true,
        "colab": {
          "base_uri": "https://localhost:8080/"
        },
        "id": "gVRW3mnS5YEj",
        "outputId": "e37d6b6a-ad80-4e2a-954d-0868fb863a9f"
      },
      "outputs": [
        {
          "output_type": "stream",
          "name": "stdout",
          "text": [
            "number of test samples: 3242\n",
            "number of training samples: 18371\n"
          ]
        }
      ],
      "execution_count": 49
    },
    {
      "cell_type": "markdown",
      "source": [
        "### Question 9\n",
        "\n",
        "Create and fit a Ridge regression object using the training data, set the regularization parameter to 0.1, and calculate the R^2 using the test data. Take a screenshot of your code and the value of the R^2. You will need to submit it for the final project.\n"
      ],
      "metadata": {
        "id": "JI8dW_W15YEo"
      }
    },
    {
      "cell_type": "code",
      "source": [
        "from sklearn.linear_model import Ridge"
      ],
      "metadata": {
        "trusted": true,
        "id": "qosZiw8X5YEo"
      },
      "outputs": [],
      "execution_count": 50
    },
    {
      "cell_type": "code",
      "source": [
        "ridge_model = Ridge(alpha=0.1)\n",
        "ridge_model.fit(x_train, y_train)\n",
        "r_squared = ridge_model.score(x_test, y_test)\n",
        "print(f\"R^2 using Ridge regression: {r_squared}\")"
      ],
      "metadata": {
        "trusted": true,
        "colab": {
          "base_uri": "https://localhost:8080/"
        },
        "id": "6P-JfMRG5YEo",
        "outputId": "2b4ae008-f04c-461c-fe86-b5260478964e"
      },
      "outputs": [
        {
          "output_type": "stream",
          "name": "stdout",
          "text": [
            "R^2 using Ridge regression: 0.6478759163939112\n"
          ]
        }
      ],
      "execution_count": 52
    },
    {
      "cell_type": "markdown",
      "source": [
        "### Question 10\n",
        "\n",
        "Perform a second order polynomial transform on both the training data and testing data. Create and fit a Ridge regression object using the training data, set the regularisation parameter to 0.1, and calculate the R^2 utilising the test data provided. Take a screenshot of your code and the R^2. You will need to submit it for the final project.\n"
      ],
      "metadata": {
        "id": "Y_YxxubQ5YEo"
      }
    },
    {
      "cell_type": "code",
      "source": [
        "\n",
        "\n",
        "\n",
        "# Perform a second order polynomial transform on both the training data and testing data.\n",
        "poly = PolynomialFeatures(degree=2)\n",
        "x_train_poly = poly.fit_transform(x_train)\n",
        "x_test_poly = poly.transform(x_test)\n",
        "\n",
        "# Create and fit a Ridge regression object using the training data.\n",
        "ridge_model_poly = Ridge(alpha=0.1)\n",
        "ridge_model_poly.fit(x_train_poly, y_train)\n",
        "\n",
        "# Calculate the R^2 utilising the test data provided.\n",
        "r_squared_poly = ridge_model_poly.score(x_test_poly, y_test)\n",
        "print(f\"R^2 using Ridge regression with polynomial features: {r_squared_poly}\")"
      ],
      "metadata": {
        "trusted": true,
        "colab": {
          "base_uri": "https://localhost:8080/"
        },
        "id": "YQE33O6g5YEp",
        "outputId": "3b14bdbd-a5ad-440f-b84b-a52cb0cbf24e"
      },
      "outputs": [
        {
          "output_type": "stream",
          "name": "stdout",
          "text": [
            "R^2 using Ridge regression with polynomial features: 0.7002744267906067\n"
          ]
        }
      ],
      "execution_count": 54
    },
    {
      "cell_type": "markdown",
      "source": [
        "<p>Once you complete your notebook you will have to share it. You can download the notebook by navigating to \"File\" and clicking on \"Download\" button.\n",
        "        <p><img width=\"600\" src=\"https://cf-courses-data.s3.us.cloud-object-storage.appdomain.cloud/IBMDeveloperSkillsNetwork-DA0101EN-SkillsNetwork/labs/Module%206/images/DA0101EN_FA_Image21.png\" alt=\"share notebook\" style=\"display: block; margin-left: auto; margin-right: auto;\"></p>\n",
        "        <p></p>\n",
        "<p>This will save the (.ipynb) file on your computer. Once saved, you can upload this file in the \"My Submission\" tab, of the \"Peer-graded Assignment\" section.  \n",
        "          \n"
      ],
      "metadata": {
        "id": "y7ZRFaMX5YEp"
      }
    },
    {
      "cell_type": "markdown",
      "source": [
        "<h2>About the Authors:</h2>\n",
        "\n",
        "<a href=\"https://www.linkedin.com/in/joseph-s-50398b136/?utm_medium=Exinfluencer&utm_source=Exinfluencer&utm_content=000026UJ&utm_term=10006555&utm_id=NA-SkillsNetwork-Channel-SkillsNetworkCoursesIBMDeveloperSkillsNetworkDA0101ENSkillsNetwork20235326-2022-01-01\">Joseph Santarcangelo</a> has a PhD in Electrical Engineering, his research focused on using machine learning, signal processing, and computer vision to determine how videos impact human cognition. Joseph has been working for IBM since he completed his PhD.\n"
      ],
      "metadata": {
        "id": "Baqyqg1a5YEp"
      }
    },
    {
      "cell_type": "markdown",
      "source": [
        "Other contributors: <a href=\"https://www.linkedin.com/in/michelleccarey/?utm_medium=Exinfluencer&utm_source=Exinfluencer&utm_content=000026UJ&utm_term=10006555&utm_id=NA-SkillsNetwork-Channel-SkillsNetworkCoursesIBMDeveloperSkillsNetworkDA0101ENSkillsNetwork20235326-2022-01-01\">Michelle Carey</a>, <a href=\"https://www.linkedin.com/in/jiahui-mavis-zhou-a4537814a?utm_medium=Exinfluencer&utm_source=Exinfluencer&utm_content=000026UJ&utm_term=10006555&utm_id=NA-SkillsNetwork-Channel-SkillsNetworkCoursesIBMDeveloperSkillsNetworkDA0101ENSkillsNetwork20235326-2022-01-01\">Mavis Zhou</a>\n"
      ],
      "metadata": {
        "id": "-IqPOW835YEp"
      }
    },
    {
      "cell_type": "markdown",
      "source": [
        "\n",
        "## <h3 align=\"center\"> © IBM Corporation 2020. All rights reserved. <h3/>\n",
        "<!--## Change Log\n",
        "\n",
        "| Date (YYYY-MM-DD) | Version | Changed By      | Change Description                           |\n",
        "| ----------------- | ------- | --------------- | -------------------------------------------- |\n",
        "| 2020-12-01        | 2.2     | Aije Egwaikhide | Coverted Data describtion from text to table |\n",
        "| 2020-10-06        | 2.1     | Lakshmi Holla   | Changed markdown instruction of Question1    |\n",
        "| 2020-08-27        | 2.0     | Malika Singla   | Added lab to GitLab                          |\n",
        "| 2022-06-13        | 2.3     | Svitlana Kramar | Updated Notebook sharing instructions        |\n",
        "| <hr>              |         |                 |                                              |\n",
        "\n",
        "\n",
        "--!>\n",
        "<p>\n"
      ],
      "metadata": {
        "id": "1G3UdL5M5YEp"
      }
    }
  ]
}